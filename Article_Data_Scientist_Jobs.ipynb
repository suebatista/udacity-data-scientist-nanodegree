{
  "nbformat": 4,
  "nbformat_minor": 0,
  "metadata": {
    "colab": {
      "name": "Article - Data Scientist Jobs",
      "provenance": [],
      "collapsed_sections": [],
      "authorship_tag": "ABX9TyM3fAt4+WwyiLhjDn21+MvN",
      "include_colab_link": true
    },
    "kernelspec": {
      "name": "python3",
      "display_name": "Python 3"
    }
  },
  "cells": [
    {
      "cell_type": "markdown",
      "metadata": {
        "id": "view-in-github",
        "colab_type": "text"
      },
      "source": [
        "<a href=\"https://colab.research.google.com/github/xscbsx/udacity-data-scientist-nanodegree/blob/main/Article_Data_Scientist_Jobs.ipynb\" target=\"_parent\"><img src=\"https://colab.research.google.com/assets/colab-badge.svg\" alt=\"Open In Colab\"/></a>"
      ]
    },
    {
      "cell_type": "markdown",
      "metadata": {
        "id": "QDjC552qJmyP"
      },
      "source": [
        "# Udacity Data Scientist Nanodegree - Project 1 (Data Science Blog Post)\r\n",
        "In this project, we analysed the data of more than 200 data scientist job positions extracted from during the period of xxx, with features such as:\r\n",
        "\r\n",
        "*   Salary Estimate\r\n",
        "*   Location\r\n",
        "*   Company Rating\r\n",
        "*   Job Description\r\n",
        "*   and more\r\n"
      ]
    },
    {
      "cell_type": "code",
      "metadata": {
        "id": "X5QqMtga8Rei"
      },
      "source": [
        "t"
      ],
      "execution_count": null,
      "outputs": []
    },
    {
      "cell_type": "markdown",
      "metadata": {
        "id": "yRH12Wk9N4Ps"
      },
      "source": [
        "# Questions\r\n",
        "\r\n",
        "\r\n",
        "1.   Which companies have the most number of data scientist positions?\r\n",
        "2.   What's the minimum and maximum salary?\r\n",
        "3.   Which cities offer more job opportunities?\r\n",
        "4.   What kind of industry offers higher salaries?\r\n",
        "\r\n",
        "\r\n",
        "\r\n",
        "\r\n"
      ]
    },
    {
      "cell_type": "markdown",
      "metadata": {
        "id": "-oBpukYvULCu"
      },
      "source": [
        "*Data Acquisition & Preparation*"
      ]
    },
    {
      "cell_type": "code",
      "metadata": {
        "id": "CC3mcEzcUW98"
      },
      "source": [
        "#Importing libraries \n",
        "import pandas as pd\n",
        "import numpy as np \n",
        "from wordcloud import WordCloud, STOPWORDS, ImageColorGenerator\n",
        "import matplotlib.pyplot as plt\n",
        "% matplotlib inline"
      ],
      "execution_count": 1,
      "outputs": []
    },
    {
      "cell_type": "code",
      "metadata": {
        "id": "xZ7EqHpcUpMF",
        "colab": {
          "resources": {
            "http://localhost:8080/nbextensions/google.colab/files.js": {
              "data": "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",
              "ok": true,
              "headers": [
                [
                  "content-type",
                  "application/javascript"
                ]
              ],
              "status": 200,
              "status_text": ""
            }
          },
          "base_uri": "https://localhost:8080/",
          "height": 72
        },
        "outputId": "97397395-ab33-44c2-b04f-d7b24febc385"
      },
      "source": [
        "#uploading the file\n",
        "from google.colab import files\n",
        "uploaded = files.upload()"
      ],
      "execution_count": 2,
      "outputs": [
        {
          "output_type": "display_data",
          "data": {
            "text/html": [
              "\n",
              "     <input type=\"file\" id=\"files-e503370e-cdb4-49b9-bfd1-547c319c0bde\" name=\"files[]\" multiple disabled\n",
              "        style=\"border:none\" />\n",
              "     <output id=\"result-e503370e-cdb4-49b9-bfd1-547c319c0bde\">\n",
              "      Upload widget is only available when the cell has been executed in the\n",
              "      current browser session. Please rerun this cell to enable.\n",
              "      </output>\n",
              "      <script src=\"/nbextensions/google.colab/files.js\"></script> "
            ],
            "text/plain": [
              "<IPython.core.display.HTML object>"
            ]
          },
          "metadata": {
            "tags": []
          }
        },
        {
          "output_type": "stream",
          "text": [
            "Saving DataScientist.csv to DataScientist.csv\n"
          ],
          "name": "stdout"
        }
      ]
    },
    {
      "cell_type": "code",
      "metadata": {
        "id": "EI6ykQPsqqPM"
      },
      "source": [
        "dataframe= pd.read_csv('DataScientist.csv')"
      ],
      "execution_count": 3,
      "outputs": []
    },
    {
      "cell_type": "code",
      "metadata": {
        "colab": {
          "base_uri": "https://localhost:8080/"
        },
        "id": "9fCMxUnzXnOA",
        "outputId": "47eb31f4-64cd-47e7-f05f-675451d90ef1"
      },
      "source": [
        "# check the data frame info\r\n",
        "print(dataframe.info())"
      ],
      "execution_count": 4,
      "outputs": [
        {
          "output_type": "stream",
          "text": [
            "<class 'pandas.core.frame.DataFrame'>\n",
            "RangeIndex: 3909 entries, 0 to 3908\n",
            "Data columns (total 17 columns):\n",
            " #   Column             Non-Null Count  Dtype  \n",
            "---  ------             --------------  -----  \n",
            " 0   Unnamed: 0         3909 non-null   int64  \n",
            " 1   index              3909 non-null   int64  \n",
            " 2   Job Title          3909 non-null   object \n",
            " 3   Salary Estimate    3909 non-null   object \n",
            " 4   Job Description    3909 non-null   object \n",
            " 5   Rating             3909 non-null   float64\n",
            " 6   Company Name       3909 non-null   object \n",
            " 7   Location           3909 non-null   object \n",
            " 8   Headquarters       3909 non-null   object \n",
            " 9   Size               3909 non-null   object \n",
            " 10  Founded            3909 non-null   int64  \n",
            " 11  Type of ownership  3909 non-null   object \n",
            " 12  Industry           3909 non-null   object \n",
            " 13  Sector             3909 non-null   object \n",
            " 14  Revenue            3909 non-null   object \n",
            " 15  Competitors        3909 non-null   object \n",
            " 16  Easy Apply         3909 non-null   object \n",
            "dtypes: float64(1), int64(3), object(13)\n",
            "memory usage: 519.3+ KB\n",
            "None\n"
          ],
          "name": "stdout"
        }
      ]
    },
    {
      "cell_type": "code",
      "metadata": {
        "colab": {
          "base_uri": "https://localhost:8080/",
          "height": 298
        },
        "id": "L1aG97-crAiA",
        "outputId": "31233911-265d-4d26-e880-c26731b68249"
      },
      "source": [
        "#Checking the first 3 rows of the dataset \r\n",
        "dataframe.head(3)"
      ],
      "execution_count": 5,
      "outputs": [
        {
          "output_type": "execute_result",
          "data": {
            "text/html": [
              "<div>\n",
              "<style scoped>\n",
              "    .dataframe tbody tr th:only-of-type {\n",
              "        vertical-align: middle;\n",
              "    }\n",
              "\n",
              "    .dataframe tbody tr th {\n",
              "        vertical-align: top;\n",
              "    }\n",
              "\n",
              "    .dataframe thead th {\n",
              "        text-align: right;\n",
              "    }\n",
              "</style>\n",
              "<table border=\"1\" class=\"dataframe\">\n",
              "  <thead>\n",
              "    <tr style=\"text-align: right;\">\n",
              "      <th></th>\n",
              "      <th>Unnamed: 0</th>\n",
              "      <th>index</th>\n",
              "      <th>Job Title</th>\n",
              "      <th>Salary Estimate</th>\n",
              "      <th>Job Description</th>\n",
              "      <th>Rating</th>\n",
              "      <th>Company Name</th>\n",
              "      <th>Location</th>\n",
              "      <th>Headquarters</th>\n",
              "      <th>Size</th>\n",
              "      <th>Founded</th>\n",
              "      <th>Type of ownership</th>\n",
              "      <th>Industry</th>\n",
              "      <th>Sector</th>\n",
              "      <th>Revenue</th>\n",
              "      <th>Competitors</th>\n",
              "      <th>Easy Apply</th>\n",
              "    </tr>\n",
              "  </thead>\n",
              "  <tbody>\n",
              "    <tr>\n",
              "      <th>0</th>\n",
              "      <td>0</td>\n",
              "      <td>0</td>\n",
              "      <td>Senior Data Scientist</td>\n",
              "      <td>$111K-$181K (Glassdoor est.)</td>\n",
              "      <td>ABOUT HOPPER\\n\\nAt Hopper, we’re on a mission ...</td>\n",
              "      <td>3.5</td>\n",
              "      <td>Hopper\\n3.5</td>\n",
              "      <td>New York, NY</td>\n",
              "      <td>Montreal, Canada</td>\n",
              "      <td>501 to 1000 employees</td>\n",
              "      <td>2007</td>\n",
              "      <td>Company - Private</td>\n",
              "      <td>Travel Agencies</td>\n",
              "      <td>Travel &amp; Tourism</td>\n",
              "      <td>Unknown / Non-Applicable</td>\n",
              "      <td>-1</td>\n",
              "      <td>-1</td>\n",
              "    </tr>\n",
              "    <tr>\n",
              "      <th>1</th>\n",
              "      <td>1</td>\n",
              "      <td>1</td>\n",
              "      <td>Data Scientist, Product Analytics</td>\n",
              "      <td>$111K-$181K (Glassdoor est.)</td>\n",
              "      <td>At Noom, we use scientifically proven methods ...</td>\n",
              "      <td>4.5</td>\n",
              "      <td>Noom US\\n4.5</td>\n",
              "      <td>New York, NY</td>\n",
              "      <td>New York, NY</td>\n",
              "      <td>1001 to 5000 employees</td>\n",
              "      <td>2008</td>\n",
              "      <td>Company - Private</td>\n",
              "      <td>Health, Beauty, &amp; Fitness</td>\n",
              "      <td>Consumer Services</td>\n",
              "      <td>Unknown / Non-Applicable</td>\n",
              "      <td>-1</td>\n",
              "      <td>-1</td>\n",
              "    </tr>\n",
              "    <tr>\n",
              "      <th>2</th>\n",
              "      <td>2</td>\n",
              "      <td>2</td>\n",
              "      <td>Data Science Manager</td>\n",
              "      <td>$111K-$181K (Glassdoor est.)</td>\n",
              "      <td>Decode_M\\n\\nhttps://www.decode-m.com/\\n\\nData ...</td>\n",
              "      <td>-1.0</td>\n",
              "      <td>Decode_M</td>\n",
              "      <td>New York, NY</td>\n",
              "      <td>New York, NY</td>\n",
              "      <td>1 to 50 employees</td>\n",
              "      <td>-1</td>\n",
              "      <td>Unknown</td>\n",
              "      <td>-1</td>\n",
              "      <td>-1</td>\n",
              "      <td>Unknown / Non-Applicable</td>\n",
              "      <td>-1</td>\n",
              "      <td>True</td>\n",
              "    </tr>\n",
              "  </tbody>\n",
              "</table>\n",
              "</div>"
            ],
            "text/plain": [
              "   Unnamed: 0  index  ... Competitors Easy Apply\n",
              "0           0      0  ...          -1         -1\n",
              "1           1      1  ...          -1         -1\n",
              "2           2      2  ...          -1       True\n",
              "\n",
              "[3 rows x 17 columns]"
            ]
          },
          "metadata": {
            "tags": []
          },
          "execution_count": 5
        }
      ]
    },
    {
      "cell_type": "markdown",
      "metadata": {
        "id": "lsVpdoix8j6A"
      },
      "source": [
        "# Salary"
      ]
    },
    {
      "cell_type": "code",
      "metadata": {
        "colab": {
          "base_uri": "https://localhost:8080/"
        },
        "id": "rnuWqBaAkGm_",
        "outputId": "c7110ea2-6c2f-432d-b9fe-3dc45eaa37e0"
      },
      "source": [
        "#Adjusting the format of data of the Salary Estimate colummn ( Before:$37K-$66K (Glassdoor est.) After: $37K-$66K)\r\n",
        "dataframe['Salary Estimate'] = dataframe['Salary Estimate'].str[:9]\r\n",
        "dataframe['Salary Estimate']"
      ],
      "execution_count": 6,
      "outputs": [
        {
          "output_type": "execute_result",
          "data": {
            "text/plain": [
              "0       $111K-$18\n",
              "1       $111K-$18\n",
              "2       $111K-$18\n",
              "3       $111K-$18\n",
              "4       $111K-$18\n",
              "          ...    \n",
              "3904    $55K-$112\n",
              "3905    $55K-$112\n",
              "3906    $55K-$112\n",
              "3907    $55K-$112\n",
              "3908    $55K-$112\n",
              "Name: Salary Estimate, Length: 3909, dtype: object"
            ]
          },
          "metadata": {
            "tags": []
          },
          "execution_count": 6
        }
      ]
    },
    {
      "cell_type": "code",
      "metadata": {
        "colab": {
          "base_uri": "https://localhost:8080/"
        },
        "id": "MSWkyAMqUmLg",
        "outputId": "6c823aed-10d0-49cd-bba6-6cdd0fc8489c"
      },
      "source": [
        "#Unique values of salary range \r\n",
        "unique_salaries=dataframe['Salary Estimate'].unique()\r\n",
        "\r\n",
        "unique_salaries"
      ],
      "execution_count": 7,
      "outputs": [
        {
          "output_type": "execute_result",
          "data": {
            "text/plain": [
              "array(['$111K-$18', '$120K-$14', '$119K-$14', '$74K-$124', '$102K-$12',\n",
              "       '$129K-$21', '$156K-$25', '$116K-$15', '$133K-$17', '$110K-$13',\n",
              "       '$82K-$141', '$96K-$119', '$146K-$17', '$102K-$16', '$113K-$18',\n",
              "       '$76K-$122', '$134K-$21', '$76K-$125', '$132K-$20', '$83K-$105',\n",
              "       '$75K-$143', '$34K-$72K', '$37K-$75K', '$136K-$16', '$34-$53 P',\n",
              "       '$46K-$80K', '$79K-$130', '$91K-$105', '$31K-$56K', '$39K-$81K',\n",
              "       '$99K-$174', '$76K-$147', '$62K-$109', '$70K-$123', '$40K-$73K',\n",
              "       '$38K-$59K', '$60K-$105', '$69K-$144', '$47K-$82K', '$90K-$175',\n",
              "       '$39K-$87K', '$36K-$71K', '$55K-$117', '$114K-$14', '$138K-$21',\n",
              "       '$72K-$97K', '$73K-$136', '$10-$26 P', '$94K-$151', '$97K-$159',\n",
              "       '$46K-$104', '$45K-$81K', '$92K-$144', '$64K-$97K', '$47K-$73K',\n",
              "       '$84K-$156', '$97K-$111', '$84K-$101', '$99K-$173', '$93K-$151',\n",
              "       '$50K-$87K', '$71K-$117', '$44K-$80K', '$94K-$166', '$65K-$100',\n",
              "       '$41K-$74K', '$46K-$83K', '$45K-$106', '$71K-$122', '$143K-$23',\n",
              "       '$70K-$154', '$68K-$89K', '$55K-$101', '$98K-$152', '$54K-$92K',\n",
              "       '$74K-$140', '$83K-$154', '$52K-$91K', '$43K-$76K', '$17-$27 P',\n",
              "       '$60K-$124', '$46K-$82K', '$83K-$165', '$39K-$69K', '$88K-$140',\n",
              "       '$74K-$129', '$114K-$21', '$75K-$149', '$112K-$21', '$62K-$127',\n",
              "       '$86K-$178', '$110K-$16', '$12K-$112', '$12K-$111', '$49K-$78K',\n",
              "       '$48K-$98K', '$85K-$159', '$51K-$79K', '$49K-$92K', '$85K-$147',\n",
              "       '$45K-$78K', '$48K-$89K', '$46K-$91K', '$73K-$102', '$100K-$17',\n",
              "       '$93K-$149', '$148K-$17', '$111K-$17', '$150K-$23', '$200K-$25',\n",
              "       '$135K-$21', '$119K-$18', '$145K-$17', '$150K-$16', '$121K-$19',\n",
              "       '$141K-$22', '$102K-$17', '$116K-$18', '$112K-$17', '$100K-$15',\n",
              "       '$38K-$68K', '$73K-$111', '$82K-$129', '$74K-$144', '$41K-$66K',\n",
              "       '$59K-$113', '$70K-$129', '$50K-$110', '$62K-$112', '$114K-$18',\n",
              "       '$61K-$94K', '$54K-$88K', '$66K-$130', '$96K-$155', '$57K-$80K',\n",
              "       '$47K-$84K', '$39K-$71K', '$55K-$98K', '$93K-$103', '$100K-$16',\n",
              "       '$98K-$160', '$52K-$94K', '$55K-$113', '$39K-$86K', '$55K-$112'],\n",
              "      dtype=object)"
            ]
          },
          "metadata": {
            "tags": []
          },
          "execution_count": 7
        }
      ]
    },
    {
      "cell_type": "code",
      "metadata": {
        "colab": {
          "base_uri": "https://localhost:8080/"
        },
        "id": "TOp8LAz-8pkF",
        "outputId": "e832b7c7-0a21-4bed-9877-d73f8308376f"
      },
      "source": [
        "#Checking the to 10 most usual salaries \r\n",
        "top_10_salaries=dataframe['Salary Estimate'].value_counts().head(10)\r\n",
        "top_10_salaries"
      ],
      "execution_count": 8,
      "outputs": [
        {
          "output_type": "execute_result",
          "data": {
            "text/plain": [
              "$113K-$18    90\n",
              "$93K-$151    62\n",
              "$71K-$122    60\n",
              "$111K-$17    60\n",
              "$114K-$14    60\n",
              "$134K-$21    60\n",
              "$119K-$14    44\n",
              "$100K-$17    37\n",
              "$97K-$159    32\n",
              "$98K-$152    31\n",
              "Name: Salary Estimate, dtype: int64"
            ]
          },
          "metadata": {
            "tags": []
          },
          "execution_count": 8
        }
      ]
    },
    {
      "cell_type": "code",
      "metadata": {
        "colab": {
          "base_uri": "https://localhost:8080/",
          "height": 643
        },
        "id": "JNUKWRh1HcLc",
        "outputId": "7612c0f1-3df8-4370-ddd5-58b735a6a214"
      },
      "source": [
        "#Creating a bar plot using the Salary Estimate \r\n",
        "plt.figure(figsize=(15,10))\r\n",
        "top_10_salaries.sort_values(ascending=False).plot.bar()\r\n",
        "plt.xticks(rotation=50)\r\n",
        "plt.xlabel(\"Salary Estimate\")\r\n",
        "plt.ylabel(\"Quantity\")\r\n",
        "plt.show()"
      ],
      "execution_count": 20,
      "outputs": [
        {
          "output_type": "display_data",
          "data": {
            "image/png": "[encoded data removed]",
            "text/plain": [
              "<Figure size 1080x720 with 1 Axes>"
            ]
          },
          "metadata": {
            "tags": [],
            "needs_background": "light"
          }
        }
      ]
    },
    {
      "cell_type": "code",
      "metadata": {
        "colab": {
          "base_uri": "https://localhost:8080/"
        },
        "id": "-b6dO6z_IyZU",
        "outputId": "76cedb92-92ca-4cee-8456-ee48f34a1546"
      },
      "source": [
        "#Checking the to 10 most usual salaries \r\n",
        "top_3_industry=dataframe['Sector'].value_counts().head(5)\r\n",
        "top_3_industry"
      ],
      "execution_count": 22,
      "outputs": [
        {
          "output_type": "execute_result",
          "data": {
            "text/plain": [
              "Information Technology       1124\n",
              "Business Services             679\n",
              "-1                            546\n",
              "Biotech & Pharmaceuticals     293\n",
              "Finance                       270\n",
              "Name: Sector, dtype: int64"
            ]
          },
          "metadata": {
            "tags": []
          },
          "execution_count": 22
        }
      ]
    },
    {
      "cell_type": "code",
      "metadata": {
        "colab": {
          "base_uri": "https://localhost:8080/"
        },
        "id": "A9vA1s64KZjA",
        "outputId": "5585fbcd-6e46-48fc-9953-c8904aca4c03"
      },
      "source": [
        "#Checking the to 10 most usual salaries \r\n",
        "top_5_company=dataframe['Company Name'].value_counts().head(5)\r\n",
        "top_5_company"
      ],
      "execution_count": 29,
      "outputs": [
        {
          "output_type": "execute_result",
          "data": {
            "text/plain": [
              "Apple\\n4.1                               60\n",
              "IBM\\n3.7                                 57\n",
              "Amazon\\n3.9                              47\n",
              "Staffigo Technical Services, LLC\\n5.0    28\n",
              "Facebook\\n4.5                            25\n",
              "Name: Company Name, dtype: int64"
            ]
          },
          "metadata": {
            "tags": []
          },
          "execution_count": 29
        }
      ]
    },
    {
      "cell_type": "code",
      "metadata": {
        "colab": {
          "base_uri": "https://localhost:8080/",
          "height": 589
        },
        "id": "-EgMvxf_Kp5j",
        "outputId": "dc137dc5-c043-4203-8271-931fc18f0211"
      },
      "source": [
        "#Creating a pie plot using the Company Name \r\n",
        "plt.figure(figsize=(15,10))\r\n",
        "top_5_company.sort_values(ascending=False).plot.pie()\r\n",
        "plt.xticks(rotation=50)\r\n",
        "plt.xlabel(\"Companies with the most number of data scientist jobs\")\r\n",
        "plt.show()"
      ],
      "execution_count": 32,
      "outputs": [
        {
          "output_type": "display_data",
          "data": {
            "image/png": "[encoded data removed]",
            "text/plain": [
              "<Figure size 1080x720 with 1 Axes>"
            ]
          },
          "metadata": {
            "tags": []
          }
        }
      ]
    },
    {
      "cell_type": "code",
      "metadata": {
        "colab": {
          "base_uri": "https://localhost:8080/",
          "height": 419
        },
        "id": "UTKnw_4sLfw4",
        "outputId": "954c675e-041a-46fd-bba8-3df7f0126916"
      },
      "source": [
        "filtro2=['Salary Estimate','Company Name']\r\n",
        "dataframe[filtro2]"
      ],
      "execution_count": 46,
      "outputs": [
        {
          "output_type": "execute_result",
          "data": {
            "text/html": [
              "<div>\n",
              "<style scoped>\n",
              "    .dataframe tbody tr th:only-of-type {\n",
              "        vertical-align: middle;\n",
              "    }\n",
              "\n",
              "    .dataframe tbody tr th {\n",
              "        vertical-align: top;\n",
              "    }\n",
              "\n",
              "    .dataframe thead th {\n",
              "        text-align: right;\n",
              "    }\n",
              "</style>\n",
              "<table border=\"1\" class=\"dataframe\">\n",
              "  <thead>\n",
              "    <tr style=\"text-align: right;\">\n",
              "      <th></th>\n",
              "      <th>Salary Estimate</th>\n",
              "      <th>Company Name</th>\n",
              "    </tr>\n",
              "  </thead>\n",
              "  <tbody>\n",
              "    <tr>\n",
              "      <th>0</th>\n",
              "      <td>$111K-$18</td>\n",
              "      <td>Hopper\\n3.5</td>\n",
              "    </tr>\n",
              "    <tr>\n",
              "      <th>1</th>\n",
              "      <td>$111K-$18</td>\n",
              "      <td>Noom US\\n4.5</td>\n",
              "    </tr>\n",
              "    <tr>\n",
              "      <th>2</th>\n",
              "      <td>$111K-$18</td>\n",
              "      <td>Decode_M</td>\n",
              "    </tr>\n",
              "    <tr>\n",
              "      <th>3</th>\n",
              "      <td>$111K-$18</td>\n",
              "      <td>Sapphire Digital\\n3.4</td>\n",
              "    </tr>\n",
              "    <tr>\n",
              "      <th>4</th>\n",
              "      <td>$111K-$18</td>\n",
              "      <td>United Entertainment Group\\n3.4</td>\n",
              "    </tr>\n",
              "    <tr>\n",
              "      <th>...</th>\n",
              "      <td>...</td>\n",
              "      <td>...</td>\n",
              "    </tr>\n",
              "    <tr>\n",
              "      <th>3904</th>\n",
              "      <td>$55K-$112</td>\n",
              "      <td>Tachyon Technologies\\n4.4</td>\n",
              "    </tr>\n",
              "    <tr>\n",
              "      <th>3905</th>\n",
              "      <td>$55K-$112</td>\n",
              "      <td>Staffigo Technical Services, LLC\\n5.0</td>\n",
              "    </tr>\n",
              "    <tr>\n",
              "      <th>3906</th>\n",
              "      <td>$55K-$112</td>\n",
              "      <td>PDS Tech, Inc.\\n3.8</td>\n",
              "    </tr>\n",
              "    <tr>\n",
              "      <th>3907</th>\n",
              "      <td>$55K-$112</td>\n",
              "      <td>Data Resource Technologies\\n4.0</td>\n",
              "    </tr>\n",
              "    <tr>\n",
              "      <th>3908</th>\n",
              "      <td>$55K-$112</td>\n",
              "      <td>UCB\\n3.7</td>\n",
              "    </tr>\n",
              "  </tbody>\n",
              "</table>\n",
              "<p>3909 rows × 2 columns</p>\n",
              "</div>"
            ],
            "text/plain": [
              "     Salary Estimate                           Company Name\n",
              "0          $111K-$18                            Hopper\\n3.5\n",
              "1          $111K-$18                           Noom US\\n4.5\n",
              "2          $111K-$18                               Decode_M\n",
              "3          $111K-$18                  Sapphire Digital\\n3.4\n",
              "4          $111K-$18        United Entertainment Group\\n3.4\n",
              "...              ...                                    ...\n",
              "3904       $55K-$112              Tachyon Technologies\\n4.4\n",
              "3905       $55K-$112  Staffigo Technical Services, LLC\\n5.0\n",
              "3906       $55K-$112                    PDS Tech, Inc.\\n3.8\n",
              "3907       $55K-$112        Data Resource Technologies\\n4.0\n",
              "3908       $55K-$112                               UCB\\n3.7\n",
              "\n",
              "[3909 rows x 2 columns]"
            ]
          },
          "metadata": {
            "tags": []
          },
          "execution_count": 46
        }
      ]
    },
    {
      "cell_type": "code",
      "metadata": {
        "colab": {
          "base_uri": "https://localhost:8080/",
          "height": 296
        },
        "id": "rrIzSC_BNX28",
        "outputId": "9ad87f31-4eb7-4d21-c16c-719c99671aed"
      },
      "source": [
        "import seaborn as sns \r\n",
        "sns.countplot(x='Sector',data=dataframe)"
      ],
      "execution_count": 63,
      "outputs": [
        {
          "output_type": "execute_result",
          "data": {
            "text/plain": [
              "<matplotlib.axes._subplots.AxesSubplot at 0x7f029a667978>"
            ]
          },
          "metadata": {
            "tags": []
          },
          "execution_count": 63
        },
        {
          "output_type": "display_data",
          "data": {
            "image/png": "[encoded data removed]",
            "text/plain": [
              "<Figure size 432x288 with 1 Axes>"
            ]
          },
          "metadata": {
            "tags": [],
            "needs_background": "light"
          }
        }
      ]
    },
    {
      "cell_type": "code",
      "metadata": {
        "colab": {
          "base_uri": "https://localhost:8080/"
        },
        "id": "IYAHWWE2fae5",
        "outputId": "990acd8b-63f4-4c11-f7dd-480379ea1c12"
      },
      "source": [
        "dataframe['Headquarters'].unique()"
      ],
      "execution_count": 10,
      "outputs": [
        {
          "output_type": "execute_result",
          "data": {
            "text/plain": [
              "array(['Montreal, Canada', 'New York, NY', 'Lyndhurst, NJ',\n",
              "       'Hartford, CT', 'Stamford, CT', 'Brooklyn, NY',\n",
              "       'London, United Kingdom', 'Burbank, CA', 'Chicago, IL',\n",
              "       'Jacksonville, FL', 'Stockholm, Sweden', 'San Francisco, CA',\n",
              "       'Memphis, TN', 'Warren, MI', 'Berlin, Germany', 'Menlo Park, CA',\n",
              "       'Marina del Rey, CA', 'Washington, DC', '-1', 'San Jose, CA',\n",
              "       'Seattle, WA', 'Reading, MA', 'Iselin, NJ', 'Norwalk, CT',\n",
              "       'Tehran, Iran', 'Jersey City, NJ', 'Greenwich, CT',\n",
              "       'Mountain View, CA', 'Langley, VA', 'Princeton, NJ', 'Wichita, KS',\n",
              "       'East Northport, NY', 'South Plainfield, NJ', 'Medford, OR',\n",
              "       'Bengaluru, India', 'North Brunswick, NJ', 'Baltimore, MD',\n",
              "       'Plainsboro, NJ', 'Newark, NJ', 'San Diego, CA', 'Mc Lean, VA',\n",
              "       'New York, NY (US), NY', 'Santa Monica, CA', 'San Antonio, TX',\n",
              "       'Coconut Creek, FL', 'Port Washington, NY', 'MINATO-KU, Japan',\n",
              "       'Carle Place, NY', 'Rockville Centre, NY', 'Piscataway, NJ',\n",
              "       'Ventura, CA', 'Dublin, Ireland', 'Walpole, MA', 'Fair Lawn, NJ',\n",
              "       'Litchfield Park, AZ', 'Columbus, OH', 'Milwaukee, WI',\n",
              "       'Hamilton, Bermuda', 'Cambridge, United Kingdom',\n",
              "       'Cherry Hill, NJ', 'Kings Langley, United Kingdom', 'Fort Lee, NJ',\n",
              "       'Irvine, CA', 'Charlotte, NC', 'Armonk, NY', 'Southfield, MI',\n",
              "       'San Mateo, CA', 'Colorado Springs, CO', 'Louisville, KY',\n",
              "       'West Hollywood, CA', 'Bethesda, MD', 'Edison, NJ', 'Bellevue, WA',\n",
              "       'Toronto, Canada', 'Irving, TX', 'Sydney, Australia',\n",
              "       'Fairfax, VA', 'Fremont, CA', 'Calistoga, CA', 'Phoenix, AZ',\n",
              "       'Houston, TX', 'Salt Lake City, UT', 'Los Angeles, CA',\n",
              "       'Springfield, MA', 'Cleveland, OH', 'Gibsonia, PA',\n",
              "       'Palo Alto, CA', 'Woodland Hills, CA', 'Los Gatos, CA',\n",
              "       'Culver City, CA', 'Easton, MD', 'Sherman Oaks, CA',\n",
              "       'El Segundo, CA', 'Encino, CA', 'Glendale, CA', 'Brea, CA',\n",
              "       'Paris, France', 'Redwood City, CA', 'Atlanta, GA',\n",
              "       'North Hollywood, CA', 'Sterling, VA', 'Duarte, CA',\n",
              "       'Calabasas, CA', 'Markham, Canada', 'Rutland, VT',\n",
              "       'Hermosa Beach, CA', 'Bedford, MA', 'Maidenhead, United Kingdom',\n",
              "       'Cupertino, CA', 'West Roxbury, MA', 'Alpharetta, GA',\n",
              "       'Barcelona, Spain', 'Seoul, South Korea', 'Van Nuys, CA',\n",
              "       'Denver, CO', 'Berwyn, PA', 'Troy, MI', 'South San Francisco, CA',\n",
              "       'Foster City, CA', 'Parsippany, NJ', 'Pasadena, CA',\n",
              "       'Bishnupur , India', 'Naperville, IL', 'Milton, WV',\n",
              "       'Woodridge, IL', 'Venice, CA', 'Glen Allen, VA',\n",
              "       'South Jordan, UT', 'Sacramento, CA', 'Rolling Meadows, IL',\n",
              "       'Melbourne, Australia', 'Austin, TX', 'Centennial, CO',\n",
              "       'Waltham, MA', 'Hillsborough, NJ', 'Aliso Viejo, CA',\n",
              "       'Norwood, MA', 'Westlake Village, CA', 'Costa Mesa, CA',\n",
              "       'Pleasanton, CA', 'Dana Point, CA', 'Oakland, CA',\n",
              "       'Long Beach, CA', 'Luxembourg, Luxembourg', 'Quebec, Canada',\n",
              "       'Tacoma, WA', 'Walnut Creek, CA', 'King of Prussia, PA',\n",
              "       'Tempe, AZ', 'South Windsor, CT', 'Dallas, TX', 'Tampa, FL',\n",
              "       'Harrisburg, NC', 'Indianapolis, IN', 'Williamsville, NY',\n",
              "       'Hayward, CA', 'Santa Clara, CA', 'Cincinnati, OH',\n",
              "       'Hyderabad, India', 'Alhambra, CA', 'Burlington, NC',\n",
              "       'Evanston, IL', 'Rosemont, IL', 'Duluth, GA', 'Jenkintown, PA',\n",
              "       'Minneapolis, MN', 'Madison, WI', 'Muscatine, IA', 'Hinsdale, IL',\n",
              "       'Chennai, India', 'Langhorne, PA', 'Lemont, IL', 'Milan, IL',\n",
              "       'Deerfield, IL', 'McLean, VA', 'Woonsocket, RI', 'Fort Wayne, IN',\n",
              "       'Northbrook, IL', 'Turin, Italy', 'Oak Brook, IL',\n",
              "       'Park Ridge, IL', 'Aurora, Canada', 'Hanover, MD',\n",
              "       'Arlington Heights, IL', 'Gardena, CA', 'Miramar, FL',\n",
              "       'Reston, VA', 'Itasca, IL', 'Minnetonka, MN', 'Covington, KY',\n",
              "       'Matthews, NC', 'Kennesaw, GA', 'Pittsburgh, PA',\n",
              "       'Millersville, MD', 'Wilmington, DE', 'Berea, OH', 'Boston, MA',\n",
              "       'Somerset, NJ', 'St Thomas, VI', 'New Haven, CT', 'Brookfield, WI',\n",
              "       'Basking Ridge, NJ', 'Dublin, CA', 'Ottawa, Canada',\n",
              "       'Singapore, Singapore', 'Ashburn, VA', 'Wilmington, NC',\n",
              "       'New York, 061', 'Plano, TX', 'Dublin, OH', 'KIRKLAND, Canada',\n",
              "       'Burr Ridge, IL', 'Saint Louis, MO', 'Philadelphia, PA',\n",
              "       'Fort Lauderdale, FL', 'Portland, OR', 'Dayton, OH',\n",
              "       'Mississauga, Canada', 'Schaumburg, IL', 'Peoria, IL',\n",
              "       'Bridgeview, IL', 'Sayreville, NJ', 'Hilliard, OH', 'Raleigh, NC',\n",
              "       'Miami, FL', 'Des Plaines, IL', 'Boulder, CO', 'Rochester, NY',\n",
              "       'Warwick, United Kingdom', 'Stavanger, Norway',\n",
              "       'CARQUEFOU, France', 'San Carlos, CA', 'Canton, MI',\n",
              "       'Chadds Ford, PA', 'Clinton, MD', 'Bethlehem, PA', 'Stafford, TX',\n",
              "       'Ridgeland, MS', 'Orem, UT', 'Madrid, Spain', 'Nashua, NH',\n",
              "       'Towson, MD', 'Basel, Switzerland', 'Palm Beach, FL',\n",
              "       'Overland Park, KS', 'Trumbull, CT', 'Upland, CA',\n",
              "       'Stans, Switzerland', 'Pearland, TX', 'Lynbrook, NY',\n",
              "       'Roswell, GA', 'The Woodlands, TX', 'Wiesbaden, Germany',\n",
              "       'West Chester, PA', 'Newport Beach, CA', 'Pasadena, TX',\n",
              "       'College Station, TX', 'Amsterdam, Netherlands', 'Decatur, AL',\n",
              "       'Cumming, GA', 'Greenville, SC', 'Orlando, FL', 'Lake Jackson, TX',\n",
              "       'Galveston, TX', 'Scottsdale, AZ', 'Tokyo, Japan', 'Chandler, AZ',\n",
              "       'Princeton Junction, NJ', 'Emeryville, CA', 'Brentwood, TN',\n",
              "       'Carlsbad, CA', 'Cheseaux-sur-Lausanne, Switzerland',\n",
              "       'Zurich, Switzerland', 'Gilbert, AZ', 'Malvern, PA',\n",
              "       'North York, Canada', 'Pocatello, ID', 'Erlangen, Germany',\n",
              "       'SUNDERLAND, United Kingdom', 'Sanford, VA', 'Cranbury, NJ',\n",
              "       'Springfield, MO', 'Olathe, KS', 'Moon Township, PA', 'Mesa, AZ',\n",
              "       'Arlington, VA', 'Nashville, TN', 'Wall Township, NJ',\n",
              "       'Sunnyvale, CA', 'South Holland, IL', 'Harrison, NJ',\n",
              "       'Altamonte Springs, FL', 'Vienna, VA', 'Wayne, PA',\n",
              "       'Marlborough, MA', 'Herndon, VA', 'Honolulu, HI',\n",
              "       'Munich, Germany', 'Aachen, Germany', 'Eindhoven, Netherlands',\n",
              "       'Edmonton, Canada', 'South Portland, ME', 'Reno, NV',\n",
              "       'Chantilly, VA', 'Sanford, FL', 'Ontario, CA', 'Red Bank, NJ',\n",
              "       'Radnor, PA', 'Trenton, NJ', 'Blue Bell, PA', 'Exton, PA',\n",
              "       'Camden, NJ', 'Aurora, CO', 'Bala Cynwyd, PA', 'Rochester, MN',\n",
              "       'West Chester, OH', 'Newtown, PA', 'Horsham, PA',\n",
              "       'Brentford, United Kingdom', 'Abingdon, United Kingdom',\n",
              "       'New Brunswick, NJ', 'Merion Station, PA', 'Broomall, PA',\n",
              "       'Fort Washington, PA', 'Wyomissing, PA', 'East Brunswick, NJ',\n",
              "       'Virginia Beach, VA', 'Conshohocken, PA',\n",
              "       'Nottingham, United Kingdom', 'Bloomfield Hills, MI',\n",
              "       'Hunt Valley, MD', 'Warrington, United Kingdom',\n",
              "       'West Conshohocken, PA', 'Philadelphia, PA (US), PA',\n",
              "       'Shanghai, China', 'Phila, PA', 'Ruislip, United Kingdom',\n",
              "       'Whippany, NJ', 'Audubon, PA', 'Branford, CT', 'Mount Laurel, NJ',\n",
              "       'Elverson, PA', 'Fort Mill, SC', 'Durham, NC', 'Lexington, MA',\n",
              "       'Holmdel, NJ', 'Farmington, CT', 'West Berlin, NJ',\n",
              "       'La Hulpe, Belgium', 'Malmö, Sweden', 'Bristol, PA',\n",
              "       'Great Neck, NY', 'Bala-Cynwyd, PA', 'Noida, India',\n",
              "       'BENGALURU, India', 'Plymouth Meeting, PA',\n",
              "       'Basingstoke, United Kingdom', 'Kenilworth, NJ', 'Burnaby, Canada',\n",
              "       'Berkeley Heights, NJ', 'Pennsauken, NJ', 'East Windsor, NJ',\n",
              "       'Doylestown, PA', 'Hatfield, United Kingdom', 'Rockville, MD',\n",
              "       'Gibbstown, NJ', \"Chignolo d'Isola, Italy\", 'Sparta, NJ',\n",
              "       'Newark, CA', 'Northborough, MA', 'Bryn Mawr, PA',\n",
              "       'Ronkonkoma, NY', 'Mumbai, India', 'Plantation, FL',\n",
              "       'Annapolis, MD', 'Kodiak, AK', 'Westchester, IL', 'Tysons, VA',\n",
              "       'Northville, MI', 'Eden Prairie, MN', 'Albuquerque, NM',\n",
              "       'Newport News, VA', 'Rusk, TX', 'Wright Patterson AFB, OH',\n",
              "       'Catoosa, OK', 'San Marcos, CA (US), CA', 'BRASILIA, Brazil',\n",
              "       'Falls Church, VA', 'Poway, CA', 'Abbott Park, IL',\n",
              "       'Gaithersburg, MD', 'La Jolla, CA', 'Mechanicsburg, PA',\n",
              "       'Aberdeen, United Kingdom', 'California, MD', 'Beijing, China',\n",
              "       'Kalispell, MT', 'Valparaiso, IN', 'Hagerstown, MD',\n",
              "       'Franklin Lakes, NJ', 'Fenton, MI', 'Milpitas, CA',\n",
              "       'Las Vegas, NV', 'Veldhoven, Netherlands', 'Millbrae, CA',\n",
              "       'Germantown, MD', 'Suwon, South Korea', 'Carmel, IN',\n",
              "       'Ridgefield Park, NJ', 'Chesterfield, MO', 'OSAKA, Japan',\n",
              "       'Willowbrook, IL', 'Bannockburn, IL', 'Saint-Prex, Switzerland',\n",
              "       'Allen, TX', 'Richardson, TX', 'Bangalore, India', 'Grapevine, TX',\n",
              "       'Grand Prairie, TX', 'Conflans-Sainte-Honorine, France',\n",
              "       'Bezons, France', 'Cary, NC', 'Tifton, GA', 'Noida, UP',\n",
              "       'West Des Moines, IA', 'Nokia, Finland', 'Frisco, TX',\n",
              "       'Yakima, WA', 'Bloomington, IL', 'Farmers Branch, TX',\n",
              "       'Santa Ana, CA', 'Fort Worth, TX', 'Arlington, TX', 'Waukee, IA',\n",
              "       'Richmond, VA', 'Boca Raton, FL', 'Fresno, CA',\n",
              "       'Farmington Hills, MI', 'Flower Mound, TX', 'Austell, GA',\n",
              "       'Garden Grove, CA', 'Glendale, AZ', 'Sugar Land, TX',\n",
              "       'Rock Hill, SC', 'Annapolis Junction, MD', 'Ferris, TX',\n",
              "       'Southlake, TX', 'Ann Arbor, MI', 'Foothill Ranch, CA',\n",
              "       'Burlington, MA', 'Argyle, TX', 'Hà Nội, Vietnam', 'McKinney, TX',\n",
              "       'Hampton, VA', 'Addison, TX', 'Hellerup, Denmark',\n",
              "       'Florham Park, NJ', 'Melbourne, FL', 'Dover, DE',\n",
              "       'Elk Grove Village, IL', 'Greenwood Village, CO', 'Billerica, MA',\n",
              "       'Wilsonville, OR', 'Santa Cruz, CA', 'Saint Petersburg, FL',\n",
              "       'Union City, CA', 'Laguna Beach, CA', 'Plymouth, MI',\n",
              "       'Walldorf, Germany', 'Livermore, CA', 'Purchase, NY',\n",
              "       'Latina, Italy', 'Stanford, CA', 'Sierra Vista, AZ',\n",
              "       'Hoffman Estates, IL', 'Vancouver, Canada', 'Oklahoma City, OK',\n",
              "       'Gottingen, Germany', 'Campbell, CA', 'Boise, ID', 'Cambridge, MA',\n",
              "       'San Ramon, CA', 'Los Altos, CA', 'Brasília, Brazil',\n",
              "       'Bentonville, AR', 'Morristown, NJ', 'Lombard, IL',\n",
              "       'Short Hills, NJ', 'Croydon, United Kingdom', 'Cedar Falls, IA',\n",
              "       'Redmond, WA', 'Linthicum, MD', 'Charleston, SC', 'Lawrence, MA',\n",
              "       'Bad Homburg vor der Hohe, Germany', 'Mount Pleasant, SC',\n",
              "       'Nicosia, Cyprus', 'Allegan, MI', 'Yardley, PA',\n",
              "       'Old Greenwich, CT', 'Carpinteria, CA', 'Rockaway, NJ',\n",
              "       'Cedar Park, TX', 'Hoover, AL', 'Gainesville, VA',\n",
              "       'Macquarie Park, Australia', 'Morrisville, NC',\n",
              "       'Saint Petersburg Beach, FL', 'Melville, NY', 'Alexandria, VA',\n",
              "       'Round Rock, TX', 'Torrance, CA',\n",
              "       'Newcastle upon Tyne, United Kingdom', 'Natick, MA', 'Albany, NY',\n",
              "       'Dulles, VA', 'Eclepens, Switzerland', 'Des Moines, IA',\n",
              "       'Tucker, GA', 'Tarrytown, NY', 'Hercules, CA',\n",
              "       'CIUDAD DE MEXICO, Mexico', 'Providence, RI', 'Arvada, CO',\n",
              "       'Omaha, NE', 'Winnebago, NE', 'Tulsa, OK', 'Leesburg, VA',\n",
              "       'Portsmouth, NH', 'Framingham, MA', 'Marysville, OH',\n",
              "       'College Park, MD', 'Broadview Heights, OH', 'New Albany, OH',\n",
              "       'Bonn, Germany', 'Hilden, Germany', 'Brussel, Belgium',\n",
              "       'Helmetta, NJ', 'Old Bridge, NJ', 'Beavercreek, OH', 'Teaneck, NJ',\n",
              "       'Gahanna, OH', 'Andover, MA'], dtype=object)"
            ]
          },
          "metadata": {
            "tags": []
          },
          "execution_count": 10
        }
      ]
    },
    {
      "cell_type": "code",
      "metadata": {
        "id": "giefJMVDgAyp"
      },
      "source": [
        "plt.figure(figsize=(16, 8))\r\n",
        "sns.barplot(data=comp_per_category, x='Headquarters', y='ConvertedComp', palette=sns.color_palette(\"ch:2.5,-.2,dark=.3\"))\r\n",
        "plt.ylim(90000,140000)\r\n",
        "plt.title('Total Salary and Frequency of Contributing to Open Source')\r\n",
        "plt.ylabel('Total Salary (USD / year)')\r\n",
        "plt.xlabel('Contributing to Open Source Frequency')\r\n",
        "plt.show()"
      ],
      "execution_count": null,
      "outputs": []
    },
    {
      "cell_type": "markdown",
      "metadata": {
        "id": "8AiPugk1diJV"
      },
      "source": [
        "In order to answer the questions, these are the things we did in this data preparation step:\r\n",
        "\r\n",
        "Filtered the data so it only contains the developer responses.\r\n",
        "Because JobSat column is a categorical data, we are going to fill the N/A values with the mode.\r\n",
        "We have the differences in salary range (that really depends on which country the developers live in), so we are going to fill the N/A values in ConvertedComp with the average salary of the developer's Country. Then we drop the remaining N/A values (19 rows), it happens because there are countries with average ConvertedComp = NaN (all of the respondents from that country didn't fill the salary form).\r\n",
        "Set the JobSat and OpenSourcer column into categorical data type."
      ]
    },
    {
      "cell_type": "code",
      "metadata": {
        "colab": {
          "base_uri": "https://localhost:8080/"
        },
        "id": "b4OCE5l-t8rp",
        "outputId": "7ec56cf7-5f6f-4880-e930-470fefabbc7e"
      },
      "source": [
        "#checking the shape of dataframe -> 2.253 rows and 16 columns \r\n",
        "dataframe.shape "
      ],
      "execution_count": null,
      "outputs": [
        {
          "output_type": "execute_result",
          "data": {
            "text/plain": [
              "(2253, 16)"
            ]
          },
          "metadata": {
            "tags": []
          },
          "execution_count": 7
        }
      ]
    },
    {
      "cell_type": "code",
      "metadata": {
        "colab": {
          "base_uri": "https://localhost:8080/"
        },
        "id": "8mI-yVH_uJn5",
        "outputId": "2d75a130-91d0-49da-82da-d0453295463e"
      },
      "source": [
        "#checking the data types \r\n",
        "dataframe.dtypes"
      ],
      "execution_count": null,
      "outputs": [
        {
          "output_type": "execute_result",
          "data": {
            "text/plain": [
              "Unnamed: 0             int64\n",
              "Job Title             object\n",
              "Salary Estimate       object\n",
              "Job Description       object\n",
              "Rating               float64\n",
              "Company Name          object\n",
              "Location              object\n",
              "Headquarters          object\n",
              "Size                  object\n",
              "Founded                int64\n",
              "Type of ownership     object\n",
              "Industry              object\n",
              "Sector                object\n",
              "Revenue               object\n",
              "Competitors           object\n",
              "Easy Apply            object\n",
              "dtype: object"
            ]
          },
          "metadata": {
            "tags": []
          },
          "execution_count": 11
        }
      ]
    },
    {
      "cell_type": "code",
      "metadata": {
        "colab": {
          "base_uri": "https://localhost:8080/"
        },
        "id": "8dwSk7plvmPn",
        "outputId": "46c30b8f-45ce-44c3-d754-90cfef346064"
      },
      "source": [
        "'''object     13\r\n",
        "int64       2\r\n",
        "float64     1\r\n",
        "dtype: int64'''\r\n",
        "dataframe.dtypes.value_counts()"
      ],
      "execution_count": null,
      "outputs": [
        {
          "output_type": "execute_result",
          "data": {
            "text/plain": [
              "object     13\n",
              "int64       2\n",
              "float64     1\n",
              "dtype: int64"
            ]
          },
          "metadata": {
            "tags": []
          },
          "execution_count": 12
        }
      ]
    },
    {
      "cell_type": "code",
      "metadata": {
        "colab": {
          "base_uri": "https://localhost:8080/"
        },
        "id": "R9JFUWtjFEuv",
        "outputId": "0682f2d7-9358-46a4-b502-3876719fb638"
      },
      "source": [
        "dataframe['Salary Estimate'].describe()"
      ],
      "execution_count": null,
      "outputs": [
        {
          "output_type": "execute_result",
          "data": {
            "text/plain": [
              "count                           2253\n",
              "unique                            90\n",
              "top       $42K-$76K (Glassdoor est.)\n",
              "freq                              57\n",
              "Name: Salary Estimate, dtype: object"
            ]
          },
          "metadata": {
            "tags": []
          },
          "execution_count": 25
        }
      ]
    },
    {
      "cell_type": "code",
      "metadata": {
        "colab": {
          "base_uri": "https://localhost:8080/"
        },
        "id": "aprwuCgNwJn7",
        "outputId": "c180ac67-f0fc-48b2-e8c2-fa945ee2f615"
      },
      "source": [
        "#Checking if there is any null numbers \r\n",
        "dataframe.isna().sum()"
      ],
      "execution_count": null,
      "outputs": [
        {
          "output_type": "execute_result",
          "data": {
            "text/plain": [
              "Unnamed: 0           0\n",
              "Job Title            0\n",
              "Salary Estimate      0\n",
              "Job Description      0\n",
              "Rating               0\n",
              "Company Name         1\n",
              "Location             0\n",
              "Headquarters         0\n",
              "Size                 0\n",
              "Founded              0\n",
              "Type of ownership    0\n",
              "Industry             0\n",
              "Sector               0\n",
              "Revenue              0\n",
              "Competitors          0\n",
              "Easy Apply           0\n",
              "dtype: int64"
            ]
          },
          "metadata": {
            "tags": []
          },
          "execution_count": 16
        }
      ]
    },
    {
      "cell_type": "code",
      "metadata": {
        "colab": {
          "base_uri": "https://localhost:8080/"
        },
        "id": "OH-gB2S32QZk",
        "outputId": "408dafff-a853-4be3-cd37-ba0ef5b29911"
      },
      "source": [
        "#checking the colummns\r\n",
        "dataframe.columns"
      ],
      "execution_count": null,
      "outputs": [
        {
          "output_type": "execute_result",
          "data": {
            "text/plain": [
              "Index(['Unnamed: 0', 'Job Title', 'Salary Estimate', 'Job Description',\n",
              "       'Rating', 'Company Name', 'Location', 'Headquarters', 'Size', 'Founded',\n",
              "       'Type of ownership', 'Industry', 'Sector', 'Revenue', 'Competitors',\n",
              "       'Easy Apply'],\n",
              "      dtype='object')"
            ]
          },
          "metadata": {
            "tags": []
          },
          "execution_count": 17
        }
      ]
    },
    {
      "cell_type": "code",
      "metadata": {
        "colab": {
          "base_uri": "https://localhost:8080/"
        },
        "id": "JBZfTrbT8igJ",
        "outputId": "b9afef52-cc97-4dcd-bfbb-5cfcc50dca7b"
      },
      "source": [
        "#acessando coluna específica \r\n",
        "dataframe['Salary Estimate']"
      ],
      "execution_count": null,
      "outputs": [
        {
          "output_type": "execute_result",
          "data": {
            "text/plain": [
              "0        $37K-$66K (Glassdoor est.)\n",
              "1        $37K-$66K (Glassdoor est.)\n",
              "2        $37K-$66K (Glassdoor est.)\n",
              "3        $37K-$66K (Glassdoor est.)\n",
              "4        $37K-$66K (Glassdoor est.)\n",
              "                   ...             \n",
              "2248    $78K-$104K (Glassdoor est.)\n",
              "2249    $78K-$104K (Glassdoor est.)\n",
              "2250    $78K-$104K (Glassdoor est.)\n",
              "2251    $78K-$104K (Glassdoor est.)\n",
              "2252    $78K-$104K (Glassdoor est.)\n",
              "Name: Salary Estimate, Length: 2253, dtype: object"
            ]
          },
          "metadata": {
            "tags": []
          },
          "execution_count": 19
        }
      ]
    },
    {
      "cell_type": "code",
      "metadata": {
        "colab": {
          "base_uri": "https://localhost:8080/",
          "height": 419
        },
        "id": "wDjMRMf2DjD4",
        "outputId": "3836615e-5a6b-4334-952c-6c53f3abc4ac"
      },
      "source": [
        "#acessando os valores através de lista\r\n",
        "salary_per_company=['Salary Estimate','Company Name']\r\n",
        "dataframe[filtro]"
      ],
      "execution_count": null,
      "outputs": [
        {
          "output_type": "execute_result",
          "data": {
            "text/html": [
              "<div>\n",
              "<style scoped>\n",
              "    .dataframe tbody tr th:only-of-type {\n",
              "        vertical-align: middle;\n",
              "    }\n",
              "\n",
              "    .dataframe tbody tr th {\n",
              "        vertical-align: top;\n",
              "    }\n",
              "\n",
              "    .dataframe thead th {\n",
              "        text-align: right;\n",
              "    }\n",
              "</style>\n",
              "<table border=\"1\" class=\"dataframe\">\n",
              "  <thead>\n",
              "    <tr style=\"text-align: right;\">\n",
              "      <th></th>\n",
              "      <th>Salary Estimate</th>\n",
              "      <th>Company Name</th>\n",
              "    </tr>\n",
              "  </thead>\n",
              "  <tbody>\n",
              "    <tr>\n",
              "      <th>0</th>\n",
              "      <td>$37K-$66K (Glassdoor est.)</td>\n",
              "      <td>Vera Institute of Justice\\n3.2</td>\n",
              "    </tr>\n",
              "    <tr>\n",
              "      <th>1</th>\n",
              "      <td>$37K-$66K (Glassdoor est.)</td>\n",
              "      <td>Visiting Nurse Service of New York\\n3.8</td>\n",
              "    </tr>\n",
              "    <tr>\n",
              "      <th>2</th>\n",
              "      <td>$37K-$66K (Glassdoor est.)</td>\n",
              "      <td>Squarespace\\n3.4</td>\n",
              "    </tr>\n",
              "    <tr>\n",
              "      <th>3</th>\n",
              "      <td>$37K-$66K (Glassdoor est.)</td>\n",
              "      <td>Celerity\\n4.1</td>\n",
              "    </tr>\n",
              "    <tr>\n",
              "      <th>4</th>\n",
              "      <td>$37K-$66K (Glassdoor est.)</td>\n",
              "      <td>FanDuel\\n3.9</td>\n",
              "    </tr>\n",
              "    <tr>\n",
              "      <th>...</th>\n",
              "      <td>...</td>\n",
              "      <td>...</td>\n",
              "    </tr>\n",
              "    <tr>\n",
              "      <th>2248</th>\n",
              "      <td>$78K-$104K (Glassdoor est.)</td>\n",
              "      <td>Avacend, Inc.\\n2.5</td>\n",
              "    </tr>\n",
              "    <tr>\n",
              "      <th>2249</th>\n",
              "      <td>$78K-$104K (Glassdoor est.)</td>\n",
              "      <td>Arrow Electronics\\n2.9</td>\n",
              "    </tr>\n",
              "    <tr>\n",
              "      <th>2250</th>\n",
              "      <td>$78K-$104K (Glassdoor est.)</td>\n",
              "      <td>Spiceorb</td>\n",
              "    </tr>\n",
              "    <tr>\n",
              "      <th>2251</th>\n",
              "      <td>$78K-$104K (Glassdoor est.)</td>\n",
              "      <td>Contingent Network Services\\n3.1</td>\n",
              "    </tr>\n",
              "    <tr>\n",
              "      <th>2252</th>\n",
              "      <td>$78K-$104K (Glassdoor est.)</td>\n",
              "      <td>SCL Health\\n3.4</td>\n",
              "    </tr>\n",
              "  </tbody>\n",
              "</table>\n",
              "<p>2253 rows × 2 columns</p>\n",
              "</div>"
            ],
            "text/plain": [
              "                  Salary Estimate                             Company Name\n",
              "0      $37K-$66K (Glassdoor est.)           Vera Institute of Justice\\n3.2\n",
              "1      $37K-$66K (Glassdoor est.)  Visiting Nurse Service of New York\\n3.8\n",
              "2      $37K-$66K (Glassdoor est.)                         Squarespace\\n3.4\n",
              "3      $37K-$66K (Glassdoor est.)                            Celerity\\n4.1\n",
              "4      $37K-$66K (Glassdoor est.)                             FanDuel\\n3.9\n",
              "...                           ...                                      ...\n",
              "2248  $78K-$104K (Glassdoor est.)                       Avacend, Inc.\\n2.5\n",
              "2249  $78K-$104K (Glassdoor est.)                   Arrow Electronics\\n2.9\n",
              "2250  $78K-$104K (Glassdoor est.)                                 Spiceorb\n",
              "2251  $78K-$104K (Glassdoor est.)         Contingent Network Services\\n3.1\n",
              "2252  $78K-$104K (Glassdoor est.)                          SCL Health\\n3.4\n",
              "\n",
              "[2253 rows x 2 columns]"
            ]
          },
          "metadata": {
            "tags": []
          },
          "execution_count": 20
        }
      ]
    },
    {
      "cell_type": "code",
      "metadata": {
        "colab": {
          "base_uri": "https://localhost:8080/"
        },
        "id": "LbfPaGHbe9YT",
        "outputId": "1d4660db-f107-43a5-dbdb-a3aa712ac217"
      },
      "source": [
        "# Filtered the data so it only contains the survey result from the top 30 places with most job opportunities based on the total respondents\r\n",
        "top_30_places = list(dataframe['Headquarters'].value_counts().head(20).index)\r\n",
        "top_30_places"
      ],
      "execution_count": null,
      "outputs": [
        {
          "output_type": "execute_result",
          "data": {
            "text/plain": [
              "['New York, NY',\n",
              " '-1',\n",
              " 'San Francisco, CA',\n",
              " 'Chicago, IL',\n",
              " 'Woodridge, IL',\n",
              " 'Los Angeles, CA',\n",
              " 'Houston, TX',\n",
              " 'Austin, TX',\n",
              " 'Princeton, NJ',\n",
              " 'Philadelphia, PA',\n",
              " 'Santa Clara, CA',\n",
              " 'San Diego, CA',\n",
              " 'Tampa, FL',\n",
              " 'Dallas, TX',\n",
              " 'Alpharetta, GA',\n",
              " 'Irving, TX',\n",
              " 'Irvine, CA',\n",
              " 'London, United Kingdom',\n",
              " 'Plainsboro, NJ',\n",
              " 'Atlanta, GA']"
            ]
          },
          "metadata": {
            "tags": []
          },
          "execution_count": 59
        }
      ]
    },
    {
      "cell_type": "code",
      "metadata": {
        "colab": {
          "base_uri": "https://localhost:8080/"
        },
        "id": "2SfvrOJqmFnB",
        "outputId": "6b1ceb7d-6146-41c6-ce68-e4497d118c26"
      },
      "source": [
        "# Filtered the data so it only contains the survey result from the top 30 places with most job opportunities based on the total respondents\r\n",
        "top_30_salaries = list(dataframe['Salary Estimate'].value_counts().head(10).index)\r\n",
        "top_30_salaries"
      ],
      "execution_count": null,
      "outputs": [
        {
          "output_type": "execute_result",
          "data": {
            "text/plain": [
              "['$42K-$76K',\n",
              " '$41K-$78K',\n",
              " '$50K-$86K',\n",
              " '$35K-$67K',\n",
              " '$58K-$93K',\n",
              " '$43K-$76K',\n",
              " '$60K-$124',\n",
              " '$60K-$66K',\n",
              " '$27K-$52K',\n",
              " '$46K-$87K']"
            ]
          },
          "metadata": {
            "tags": []
          },
          "execution_count": 60
        }
      ]
    },
    {
      "cell_type": "code",
      "metadata": {
        "colab": {
          "base_uri": "https://localhost:8080/",
          "height": 659
        },
        "id": "sh8JhNPxlK5T",
        "outputId": "e54db3c3-d347-4bac-c2ec-b34878080ee5"
      },
      "source": [
        "import matplotlib.pyplot as plt  #Gráfico de linha\r\n",
        "y=top_30_country\r\n",
        "x=top_30_salaries\r\n",
        "plt.bar(x,y)\r\n",
        "plt.title (\"Meu primeiro gráfico com Python\")  #Nomeando gráficos\r\n",
        "plt.xlabel(\"Eixo X\")\r\n",
        "plt.ylabel(\"Eixo Y\")\r\n",
        "plt.show()"
      ],
      "execution_count": null,
      "outputs": [
        {
          "output_type": "error",
          "ename": "ValueError",
          "evalue": "ignored",
          "traceback": [
            "\u001b[0;31m---------------------------------------------------------------------------\u001b[0m",
            "\u001b[0;31mValueError\u001b[0m                                Traceback (most recent call last)",
            "\u001b[0;32m<ipython-input-62-7b8d2db46614>\u001b[0m in \u001b[0;36m<module>\u001b[0;34m()\u001b[0m\n\u001b[1;32m      2\u001b[0m \u001b[0my\u001b[0m\u001b[0;34m=\u001b[0m\u001b[0mtop_30_country\u001b[0m\u001b[0;34m\u001b[0m\u001b[0;34m\u001b[0m\u001b[0m\n\u001b[1;32m      3\u001b[0m \u001b[0mx\u001b[0m\u001b[0;34m=\u001b[0m\u001b[0mtop_30_salaries\u001b[0m\u001b[0;34m\u001b[0m\u001b[0;34m\u001b[0m\u001b[0m\n\u001b[0;32m----> 4\u001b[0;31m \u001b[0mplt\u001b[0m\u001b[0;34m.\u001b[0m\u001b[0mbar\u001b[0m\u001b[0;34m(\u001b[0m\u001b[0mx\u001b[0m\u001b[0;34m,\u001b[0m\u001b[0my\u001b[0m\u001b[0;34m)\u001b[0m\u001b[0;34m\u001b[0m\u001b[0;34m\u001b[0m\u001b[0m\n\u001b[0m\u001b[1;32m      5\u001b[0m \u001b[0mplt\u001b[0m\u001b[0;34m.\u001b[0m\u001b[0mtitle\u001b[0m \u001b[0;34m(\u001b[0m\u001b[0;34m\"Meu primeiro gráfico com Python\"\u001b[0m\u001b[0;34m)\u001b[0m  \u001b[0;31m#Nomeando gráficos\u001b[0m\u001b[0;34m\u001b[0m\u001b[0;34m\u001b[0m\u001b[0m\n\u001b[1;32m      6\u001b[0m \u001b[0mplt\u001b[0m\u001b[0;34m.\u001b[0m\u001b[0mxlabel\u001b[0m\u001b[0;34m(\u001b[0m\u001b[0;34m\"Eixo X\"\u001b[0m\u001b[0;34m)\u001b[0m\u001b[0;34m\u001b[0m\u001b[0;34m\u001b[0m\u001b[0m\n",
            "\u001b[0;32m/usr/local/lib/python3.6/dist-packages/matplotlib/pyplot.py\u001b[0m in \u001b[0;36mbar\u001b[0;34m(x, height, width, bottom, align, data, **kwargs)\u001b[0m\n\u001b[1;32m   2407\u001b[0m     return gca().bar(\n\u001b[1;32m   2408\u001b[0m         \u001b[0mx\u001b[0m\u001b[0;34m,\u001b[0m \u001b[0mheight\u001b[0m\u001b[0;34m,\u001b[0m \u001b[0mwidth\u001b[0m\u001b[0;34m=\u001b[0m\u001b[0mwidth\u001b[0m\u001b[0;34m,\u001b[0m \u001b[0mbottom\u001b[0m\u001b[0;34m=\u001b[0m\u001b[0mbottom\u001b[0m\u001b[0;34m,\u001b[0m \u001b[0malign\u001b[0m\u001b[0;34m=\u001b[0m\u001b[0malign\u001b[0m\u001b[0;34m,\u001b[0m\u001b[0;34m\u001b[0m\u001b[0;34m\u001b[0m\u001b[0m\n\u001b[0;32m-> 2409\u001b[0;31m         **({\"data\": data} if data is not None else {}), **kwargs)\n\u001b[0m\u001b[1;32m   2410\u001b[0m \u001b[0;34m\u001b[0m\u001b[0m\n\u001b[1;32m   2411\u001b[0m \u001b[0;34m\u001b[0m\u001b[0m\n",
            "\u001b[0;32m/usr/local/lib/python3.6/dist-packages/matplotlib/__init__.py\u001b[0m in \u001b[0;36minner\u001b[0;34m(ax, data, *args, **kwargs)\u001b[0m\n\u001b[1;32m   1563\u001b[0m     \u001b[0;32mdef\u001b[0m \u001b[0minner\u001b[0m\u001b[0;34m(\u001b[0m\u001b[0max\u001b[0m\u001b[0;34m,\u001b[0m \u001b[0;34m*\u001b[0m\u001b[0margs\u001b[0m\u001b[0;34m,\u001b[0m \u001b[0mdata\u001b[0m\u001b[0;34m=\u001b[0m\u001b[0;32mNone\u001b[0m\u001b[0;34m,\u001b[0m \u001b[0;34m**\u001b[0m\u001b[0mkwargs\u001b[0m\u001b[0;34m)\u001b[0m\u001b[0;34m:\u001b[0m\u001b[0;34m\u001b[0m\u001b[0;34m\u001b[0m\u001b[0m\n\u001b[1;32m   1564\u001b[0m         \u001b[0;32mif\u001b[0m \u001b[0mdata\u001b[0m \u001b[0;32mis\u001b[0m \u001b[0;32mNone\u001b[0m\u001b[0;34m:\u001b[0m\u001b[0;34m\u001b[0m\u001b[0;34m\u001b[0m\u001b[0m\n\u001b[0;32m-> 1565\u001b[0;31m             \u001b[0;32mreturn\u001b[0m \u001b[0mfunc\u001b[0m\u001b[0;34m(\u001b[0m\u001b[0max\u001b[0m\u001b[0;34m,\u001b[0m \u001b[0;34m*\u001b[0m\u001b[0mmap\u001b[0m\u001b[0;34m(\u001b[0m\u001b[0msanitize_sequence\u001b[0m\u001b[0;34m,\u001b[0m \u001b[0margs\u001b[0m\u001b[0;34m)\u001b[0m\u001b[0;34m,\u001b[0m \u001b[0;34m**\u001b[0m\u001b[0mkwargs\u001b[0m\u001b[0;34m)\u001b[0m\u001b[0;34m\u001b[0m\u001b[0;34m\u001b[0m\u001b[0m\n\u001b[0m\u001b[1;32m   1566\u001b[0m \u001b[0;34m\u001b[0m\u001b[0m\n\u001b[1;32m   1567\u001b[0m         \u001b[0mbound\u001b[0m \u001b[0;34m=\u001b[0m \u001b[0mnew_sig\u001b[0m\u001b[0;34m.\u001b[0m\u001b[0mbind\u001b[0m\u001b[0;34m(\u001b[0m\u001b[0max\u001b[0m\u001b[0;34m,\u001b[0m \u001b[0;34m*\u001b[0m\u001b[0margs\u001b[0m\u001b[0;34m,\u001b[0m \u001b[0;34m**\u001b[0m\u001b[0mkwargs\u001b[0m\u001b[0;34m)\u001b[0m\u001b[0;34m\u001b[0m\u001b[0;34m\u001b[0m\u001b[0m\n",
            "\u001b[0;32m/usr/local/lib/python3.6/dist-packages/matplotlib/axes/_axes.py\u001b[0m in \u001b[0;36mbar\u001b[0;34m(self, x, height, width, bottom, align, **kwargs)\u001b[0m\n\u001b[1;32m   2340\u001b[0m         x, height, width, y, linewidth = np.broadcast_arrays(\n\u001b[1;32m   2341\u001b[0m             \u001b[0;31m# Make args iterable too.\u001b[0m\u001b[0;34m\u001b[0m\u001b[0;34m\u001b[0m\u001b[0;34m\u001b[0m\u001b[0m\n\u001b[0;32m-> 2342\u001b[0;31m             np.atleast_1d(x), height, width, y, linewidth)\n\u001b[0m\u001b[1;32m   2343\u001b[0m \u001b[0;34m\u001b[0m\u001b[0m\n\u001b[1;32m   2344\u001b[0m         \u001b[0;31m# Now that units have been converted, set the tick locations.\u001b[0m\u001b[0;34m\u001b[0m\u001b[0;34m\u001b[0m\u001b[0;34m\u001b[0m\u001b[0m\n",
            "\u001b[0;32m<__array_function__ internals>\u001b[0m in \u001b[0;36mbroadcast_arrays\u001b[0;34m(*args, **kwargs)\u001b[0m\n",
            "\u001b[0;32m/usr/local/lib/python3.6/dist-packages/numpy/lib/stride_tricks.py\u001b[0m in \u001b[0;36mbroadcast_arrays\u001b[0;34m(*args, **kwargs)\u001b[0m\n\u001b[1;32m    262\u001b[0m     \u001b[0margs\u001b[0m \u001b[0;34m=\u001b[0m \u001b[0;34m[\u001b[0m\u001b[0mnp\u001b[0m\u001b[0;34m.\u001b[0m\u001b[0marray\u001b[0m\u001b[0;34m(\u001b[0m\u001b[0m_m\u001b[0m\u001b[0;34m,\u001b[0m \u001b[0mcopy\u001b[0m\u001b[0;34m=\u001b[0m\u001b[0;32mFalse\u001b[0m\u001b[0;34m,\u001b[0m \u001b[0msubok\u001b[0m\u001b[0;34m=\u001b[0m\u001b[0msubok\u001b[0m\u001b[0;34m)\u001b[0m \u001b[0;32mfor\u001b[0m \u001b[0m_m\u001b[0m \u001b[0;32min\u001b[0m \u001b[0margs\u001b[0m\u001b[0;34m]\u001b[0m\u001b[0;34m\u001b[0m\u001b[0;34m\u001b[0m\u001b[0m\n\u001b[1;32m    263\u001b[0m \u001b[0;34m\u001b[0m\u001b[0m\n\u001b[0;32m--> 264\u001b[0;31m     \u001b[0mshape\u001b[0m \u001b[0;34m=\u001b[0m \u001b[0m_broadcast_shape\u001b[0m\u001b[0;34m(\u001b[0m\u001b[0;34m*\u001b[0m\u001b[0margs\u001b[0m\u001b[0;34m)\u001b[0m\u001b[0;34m\u001b[0m\u001b[0;34m\u001b[0m\u001b[0m\n\u001b[0m\u001b[1;32m    265\u001b[0m \u001b[0;34m\u001b[0m\u001b[0m\n\u001b[1;32m    266\u001b[0m     \u001b[0;32mif\u001b[0m \u001b[0mall\u001b[0m\u001b[0;34m(\u001b[0m\u001b[0marray\u001b[0m\u001b[0;34m.\u001b[0m\u001b[0mshape\u001b[0m \u001b[0;34m==\u001b[0m \u001b[0mshape\u001b[0m \u001b[0;32mfor\u001b[0m \u001b[0marray\u001b[0m \u001b[0;32min\u001b[0m \u001b[0margs\u001b[0m\u001b[0;34m)\u001b[0m\u001b[0;34m:\u001b[0m\u001b[0;34m\u001b[0m\u001b[0;34m\u001b[0m\u001b[0m\n",
            "\u001b[0;32m/usr/local/lib/python3.6/dist-packages/numpy/lib/stride_tricks.py\u001b[0m in \u001b[0;36m_broadcast_shape\u001b[0;34m(*args)\u001b[0m\n\u001b[1;32m    189\u001b[0m     \u001b[0;31m# use the old-iterator because np.nditer does not handle size 0 arrays\u001b[0m\u001b[0;34m\u001b[0m\u001b[0;34m\u001b[0m\u001b[0;34m\u001b[0m\u001b[0m\n\u001b[1;32m    190\u001b[0m     \u001b[0;31m# consistently\u001b[0m\u001b[0;34m\u001b[0m\u001b[0;34m\u001b[0m\u001b[0;34m\u001b[0m\u001b[0m\n\u001b[0;32m--> 191\u001b[0;31m     \u001b[0mb\u001b[0m \u001b[0;34m=\u001b[0m \u001b[0mnp\u001b[0m\u001b[0;34m.\u001b[0m\u001b[0mbroadcast\u001b[0m\u001b[0;34m(\u001b[0m\u001b[0;34m*\u001b[0m\u001b[0margs\u001b[0m\u001b[0;34m[\u001b[0m\u001b[0;34m:\u001b[0m\u001b[0;36m32\u001b[0m\u001b[0;34m]\u001b[0m\u001b[0;34m)\u001b[0m\u001b[0;34m\u001b[0m\u001b[0;34m\u001b[0m\u001b[0m\n\u001b[0m\u001b[1;32m    192\u001b[0m     \u001b[0;31m# unfortunately, it cannot handle 32 or more arguments directly\u001b[0m\u001b[0;34m\u001b[0m\u001b[0;34m\u001b[0m\u001b[0;34m\u001b[0m\u001b[0m\n\u001b[1;32m    193\u001b[0m     \u001b[0;32mfor\u001b[0m \u001b[0mpos\u001b[0m \u001b[0;32min\u001b[0m \u001b[0mrange\u001b[0m\u001b[0;34m(\u001b[0m\u001b[0;36m32\u001b[0m\u001b[0;34m,\u001b[0m \u001b[0mlen\u001b[0m\u001b[0;34m(\u001b[0m\u001b[0margs\u001b[0m\u001b[0;34m)\u001b[0m\u001b[0;34m,\u001b[0m \u001b[0;36m31\u001b[0m\u001b[0;34m)\u001b[0m\u001b[0;34m:\u001b[0m\u001b[0;34m\u001b[0m\u001b[0;34m\u001b[0m\u001b[0m\n",
            "\u001b[0;31mValueError\u001b[0m: shape mismatch: objects cannot be broadcast to a single shape"
          ]
        },
        {
          "output_type": "display_data",
          "data": {
            "image/png": "[encoded data removed]",
            "text/plain": [
              "<Figure size 432x288 with 1 Axes>"
            ]
          },
          "metadata": {
            "tags": [],
            "needs_background": "light"
          }
        }
      ]
    },
    {
      "cell_type": "code",
      "metadata": {
        "colab": {
          "base_uri": "https://localhost:8080/",
          "height": 419
        },
        "id": "UcqOQRW7GCW1",
        "outputId": "68956407-30d3-415e-b838-ba4db1aa5210"
      },
      "source": [
        "#Which cities have the highest salaries?\r\n",
        "filtro2=['Salary Estimate','Headquarters']\r\n",
        "dataframe[filtro2]"
      ],
      "execution_count": null,
      "outputs": [
        {
          "output_type": "execute_result",
          "data": {
            "text/html": [
              "<div>\n",
              "<style scoped>\n",
              "    .dataframe tbody tr th:only-of-type {\n",
              "        vertical-align: middle;\n",
              "    }\n",
              "\n",
              "    .dataframe tbody tr th {\n",
              "        vertical-align: top;\n",
              "    }\n",
              "\n",
              "    .dataframe thead th {\n",
              "        text-align: right;\n",
              "    }\n",
              "</style>\n",
              "<table border=\"1\" class=\"dataframe\">\n",
              "  <thead>\n",
              "    <tr style=\"text-align: right;\">\n",
              "      <th></th>\n",
              "      <th>Salary Estimate</th>\n",
              "      <th>Headquarters</th>\n",
              "    </tr>\n",
              "  </thead>\n",
              "  <tbody>\n",
              "    <tr>\n",
              "      <th>0</th>\n",
              "      <td>$37K-$66K</td>\n",
              "      <td>New York, NY</td>\n",
              "    </tr>\n",
              "    <tr>\n",
              "      <th>1</th>\n",
              "      <td>$37K-$66K</td>\n",
              "      <td>New York, NY</td>\n",
              "    </tr>\n",
              "    <tr>\n",
              "      <th>2</th>\n",
              "      <td>$37K-$66K</td>\n",
              "      <td>New York, NY</td>\n",
              "    </tr>\n",
              "    <tr>\n",
              "      <th>3</th>\n",
              "      <td>$37K-$66K</td>\n",
              "      <td>McLean, VA</td>\n",
              "    </tr>\n",
              "    <tr>\n",
              "      <th>4</th>\n",
              "      <td>$37K-$66K</td>\n",
              "      <td>New York, NY</td>\n",
              "    </tr>\n",
              "    <tr>\n",
              "      <th>...</th>\n",
              "      <td>...</td>\n",
              "      <td>...</td>\n",
              "    </tr>\n",
              "    <tr>\n",
              "      <th>2248</th>\n",
              "      <td>$78K-$104</td>\n",
              "      <td>Alpharetta, GA</td>\n",
              "    </tr>\n",
              "    <tr>\n",
              "      <th>2249</th>\n",
              "      <td>$78K-$104</td>\n",
              "      <td>Centennial, CO</td>\n",
              "    </tr>\n",
              "    <tr>\n",
              "      <th>2250</th>\n",
              "      <td>$78K-$104</td>\n",
              "      <td>-1</td>\n",
              "    </tr>\n",
              "    <tr>\n",
              "      <th>2251</th>\n",
              "      <td>$78K-$104</td>\n",
              "      <td>West Chester, OH</td>\n",
              "    </tr>\n",
              "    <tr>\n",
              "      <th>2252</th>\n",
              "      <td>$78K-$104</td>\n",
              "      <td>Broomfield, CO</td>\n",
              "    </tr>\n",
              "  </tbody>\n",
              "</table>\n",
              "<p>2253 rows × 2 columns</p>\n",
              "</div>"
            ],
            "text/plain": [
              "     Salary Estimate      Headquarters\n",
              "0          $37K-$66K      New York, NY\n",
              "1          $37K-$66K      New York, NY\n",
              "2          $37K-$66K      New York, NY\n",
              "3          $37K-$66K        McLean, VA\n",
              "4          $37K-$66K      New York, NY\n",
              "...              ...               ...\n",
              "2248       $78K-$104    Alpharetta, GA\n",
              "2249       $78K-$104    Centennial, CO\n",
              "2250       $78K-$104                -1\n",
              "2251       $78K-$104  West Chester, OH\n",
              "2252       $78K-$104    Broomfield, CO\n",
              "\n",
              "[2253 rows x 2 columns]"
            ]
          },
          "metadata": {
            "tags": []
          },
          "execution_count": 21
        }
      ]
    },
    {
      "cell_type": "code",
      "metadata": {
        "colab": {
          "base_uri": "https://localhost:8080/"
        },
        "id": "uye0wUa5iqzi",
        "outputId": "3c019ff1-3ea0-4e5e-a71b-d8bffd03211c"
      },
      "source": [
        "dataframe.groupby('Headquarters')['Salary Estimate'].apply(list)"
      ],
      "execution_count": null,
      "outputs": [
        {
          "output_type": "execute_result",
          "data": {
            "text/plain": [
              "Headquarters\n",
              "-1                          [$37K-$66K, $46K-$87K, $46K-$87K, $51K-$88K, $...\n",
              "Abbott Park, IL                                        [$28K-$52K, $28K-$52K]\n",
              "Aberdeen, United Kingdom                                          [$44K-$78K]\n",
              "Abingdon, United Kingdom                                          [$50K-$93K]\n",
              "Acton, MA                                                         [$58K-$93K]\n",
              "                                                  ...                        \n",
              "Worthington, OH                                                   [$47K-$74K]\n",
              "Yakima, WA                                                        [$30K-$53K]\n",
              "Yorktown Heights, NY                                   [$51K-$87K, $59K-$85K]\n",
              "Yorktown, VA                                                      [$43K-$69K]\n",
              "Zurich, Switzerland                         [$43K-$76K, $60K-$110, $53K-$94K]\n",
              "Name: Salary Estimate, Length: 483, dtype: object"
            ]
          },
          "metadata": {
            "tags": []
          },
          "execution_count": 23
        }
      ]
    },
    {
      "cell_type": "code",
      "metadata": {
        "id": "CHY0bF3-Fcg7"
      },
      "source": [
        "#Pivotando os dados\r\n",
        "#dataframe.pivot(index='canal_venda',columns='site',values='acessos')\r\n",
        "#Pivotando os dados\r\n",
        "dataframe.pivot(index='canal_venda',columns='site',values='acessos')"
      ],
      "execution_count": null,
      "outputs": []
    },
    {
      "cell_type": "code",
      "metadata": {
        "colab": {
          "base_uri": "https://localhost:8080/"
        },
        "id": "Seauus9QIBA8",
        "outputId": "db3b598d-b342-472b-c168-50f4fe13fdc5"
      },
      "source": [
        "#somando as linhas do dataframe\r\n",
        "dataframe.sum(axis=1)"
      ],
      "execution_count": null,
      "outputs": [
        {
          "output_type": "execute_result",
          "data": {
            "text/plain": [
              "0       1964.2\n",
              "1       1897.8\n",
              "2       2008.4\n",
              "3       2009.1\n",
              "4       2016.9\n",
              "         ...  \n",
              "2248    2249.5\n",
              "2249    4186.9\n",
              "2250    2248.0\n",
              "2251    4238.1\n",
              "2252    4119.4\n",
              "Length: 2253, dtype: float64"
            ]
          },
          "metadata": {
            "tags": []
          },
          "execution_count": 31
        }
      ]
    },
    {
      "cell_type": "code",
      "metadata": {
        "colab": {
          "base_uri": "https://localhost:8080/"
        },
        "id": "dwXDl7DiImeU",
        "outputId": "6ddad08a-07cb-46d4-ed30-363ae5248271"
      },
      "source": [
        "#Calculando a moda - Which company has the most opportunities?\r\n",
        "dataframe[\"Company Name\"].mode()"
      ],
      "execution_count": null,
      "outputs": [
        {
          "output_type": "execute_result",
          "data": {
            "text/plain": [
              "0    Staffigo Technical Services, LLC\\n5.0\n",
              "dtype: object"
            ]
          },
          "metadata": {
            "tags": []
          },
          "execution_count": 24
        }
      ]
    },
    {
      "cell_type": "code",
      "metadata": {
        "colab": {
          "base_uri": "https://localhost:8080/"
        },
        "id": "g8j9vnXnJQtg",
        "outputId": "5b177d0b-9b29-4291-e994-09f1c5587d50"
      },
      "source": [
        "dataframe[\"Company Name\"]."
      ],
      "execution_count": null,
      "outputs": [
        {
          "output_type": "execute_result",
          "data": {
            "text/plain": [
              "<bound method NDFrame.describe of 0                Vera Institute of Justice\\n3.2\n",
              "1       Visiting Nurse Service of New York\\n3.8\n",
              "2                              Squarespace\\n3.4\n",
              "3                                 Celerity\\n4.1\n",
              "4                                  FanDuel\\n3.9\n",
              "                         ...                   \n",
              "2248                         Avacend, Inc.\\n2.5\n",
              "2249                     Arrow Electronics\\n2.9\n",
              "2250                                   Spiceorb\n",
              "2251           Contingent Network Services\\n3.1\n",
              "2252                            SCL Health\\n3.4\n",
              "Name: Company Name, Length: 2253, dtype: object>"
            ]
          },
          "metadata": {
            "tags": []
          },
          "execution_count": 44
        }
      ]
    },
    {
      "cell_type": "code",
      "metadata": {
        "colab": {
          "base_uri": "https://localhost:8080/"
        },
        "id": "UEk63iKtJ4PG",
        "outputId": "793ec797-4300-41de-9bee-89db224a2d71"
      },
      "source": [
        "#Contando os valores únicos  #para ver se os dados estão bem agrupados\r\n",
        "dataframe['Company Name'].value_counts()"
      ],
      "execution_count": null,
      "outputs": [
        {
          "output_type": "execute_result",
          "data": {
            "text/plain": [
              "Staffigo Technical Services, LLC\\n5.0    58\n",
              "Diverse Lynx\\n3.9                        22\n",
              "Lorven Technologies Inc\\n4.0             19\n",
              "Kforce\\n4.1                              19\n",
              "Robert Half\\n3.5                         14\n",
              "                                         ..\n",
              "First Professional Services\\n5.0          1\n",
              "C2 GPS- Alamo Workforce\\n3.4              1\n",
              "Ava Consulting\\n4.4                       1\n",
              "Pegasus Knowledge Solutions\\n4.2          1\n",
              "Midland Credit Management\\n3.3            1\n",
              "Name: Company Name, Length: 1513, dtype: int64"
            ]
          },
          "metadata": {
            "tags": []
          },
          "execution_count": 45
        }
      ]
    },
    {
      "cell_type": "code",
      "metadata": {
        "colab": {
          "base_uri": "https://localhost:8080/"
        },
        "id": "qNhxls2tKJob",
        "outputId": "8ff1a268-b56e-4cb2-f63c-30dfc2a4889c"
      },
      "source": [
        "#Valores únicos de uma coluna\r\n",
        "dataframe['Company Name'].unique()"
      ],
      "execution_count": null,
      "outputs": [
        {
          "output_type": "execute_result",
          "data": {
            "text/plain": [
              "array(['Vera Institute of Justice\\n3.2',\n",
              "       'Visiting Nurse Service of New York\\n3.8', 'Squarespace\\n3.4', ...,\n",
              "       'Arrow Electronics\\n2.9', 'Contingent Network Services\\n3.1',\n",
              "       'SCL Health\\n3.4'], dtype=object)"
            ]
          },
          "metadata": {
            "tags": []
          },
          "execution_count": 46
        }
      ]
    },
    {
      "cell_type": "code",
      "metadata": {
        "colab": {
          "base_uri": "https://localhost:8080/"
        },
        "id": "0Z5c_x-pKaoK",
        "outputId": "b1a4609d-69cb-4d55-8535-d7997a45401a"
      },
      "source": [
        "#Usando o groupby com valores numéricos  \"Quantos acessos vou ter no meu site1?\"\r\n",
        "dataframe.groupby('Sector')['Industry'].sum()"
      ],
      "execution_count": null,
      "outputs": [
        {
          "output_type": "execute_result",
          "data": {
            "text/plain": [
              "Sector\n",
              "-1                                    -1-1-1-1-1-1-1-1-1-1-1-1-1-1-1-1-1-1-1-1-1-1-1...\n",
              "Accounting & Legal                    LegalAccountingAccountingAccountingAccountingA...\n",
              "Aerospace & Defense                   Aerospace & DefenseAerospace & DefenseAerospac...\n",
              "Arts, Entertainment & Recreation      Sports & RecreationGamblingGamblingSports & Re...\n",
              "Biotech & Pharmaceuticals             Biotech & PharmaceuticalsBiotech & Pharmaceuti...\n",
              "Business Services                     Research & DevelopmentAdvertising & MarketingB...\n",
              "Construction, Repair & Maintenance    General Repair & MaintenanceCommercial Equipme...\n",
              "Consumer Services                     Health, Beauty, & FitnessHealth, Beauty, & Fit...\n",
              "Education                             Colleges & UniversitiesColleges & Universities...\n",
              "Finance                               Investment Banking & Asset ManagementInvestmen...\n",
              "Government                            Federal AgenciesMunicipal GovernmentsFederal A...\n",
              "Health Care                           Health Care Services & HospitalsHealth Care Se...\n",
              "Information Technology                InternetIT ServicesInternetInternetInternetEnt...\n",
              "Insurance                             Insurance CarriersInsurance CarriersInsurance ...\n",
              "Manufacturing                         Consumer Products ManufacturingElectrical & El...\n",
              "Media                                 Motion Picture Production & DistributionMotion...\n",
              "Mining & Metals                                                          Metals Brokers\n",
              "Non-Profit                            Social AssistanceSocial AssistanceSocial Assis...\n",
              "Oil, Gas, Energy & Utilities          EnergyUtilitiesEnergyEnergyEnergyOil & Gas Ser...\n",
              "Real Estate                           Real EstateReal EstateReal EstateReal EstateRe...\n",
              "Restaurants, Bars & Food Services     Casual RestaurantsCatering & Food Service Cont...\n",
              "Retail                                Food & Beverage StoresOther Retail StoresVehic...\n",
              "Telecommunications                    Telecommunications ServicesTelecommunications ...\n",
              "Transportation & Logistics            Transportation ManagementLogistics & Supply Ch...\n",
              "Travel & Tourism                                              Hotels, Motels, & Resorts\n",
              "Name: Industry, dtype: object"
            ]
          },
          "metadata": {
            "tags": []
          },
          "execution_count": 113
        }
      ]
    },
    {
      "cell_type": "code",
      "metadata": {
        "id": "wplasIp9NOiG"
      },
      "source": [
        "'''print(\"There are {} observations and {} features in this dataset. \\n\".format(df.shape[0],df.shape[1]))\r\n",
        "\r\n",
        "print(\"There are {} types of wine in this dataset such as {}... \\n\".format(len(df.variety.unique()),\r\n",
        "                                                                           \", \".join(df.variety.unique()[0:5])))\r\n",
        "\r\n",
        "print(\"There are {} countries producing wine in this dataset such as {}... \\n\".format(len(df.country.unique()),\r\n",
        "                                                                                      \", \".join(df.country.unique()[0:5])))'''"
      ],
      "execution_count": null,
      "outputs": []
    },
    {
      "cell_type": "markdown",
      "metadata": {
        "id": "cKTV008vQXsE"
      },
      "source": [
        "To make comparisons between groups of a feature, you can use groupby() and compute summary statistics.\r\n",
        "\r\n",
        "With the wine dataset, you can group by country and look at either the summary statistics for all countries' points and price or select the most popular and expensive ones."
      ]
    },
    {
      "cell_type": "code",
      "metadata": {
        "colab": {
          "base_uri": "https://localhost:8080/",
          "height": 303
        },
        "id": "eoeCSKrwOMlQ",
        "outputId": "293f3d0b-3627-4aa9-a781-ecd191133b09"
      },
      "source": [
        "# Groupby by Salary\r\n",
        "salary = dataframe.groupby(\"Salary Estimate\")\r\n",
        "# Summary statistic of all countries\r\n",
        "salary.describe().head()\r\n"
      ],
      "execution_count": null,
      "outputs": [
        {
          "output_type": "execute_result",
          "data": {
            "text/html": [
              "<div>\n",
              "<style scoped>\n",
              "    .dataframe tbody tr th:only-of-type {\n",
              "        vertical-align: middle;\n",
              "    }\n",
              "\n",
              "    .dataframe tbody tr th {\n",
              "        vertical-align: top;\n",
              "    }\n",
              "\n",
              "    .dataframe thead tr th {\n",
              "        text-align: left;\n",
              "    }\n",
              "\n",
              "    .dataframe thead tr:last-of-type th {\n",
              "        text-align: right;\n",
              "    }\n",
              "</style>\n",
              "<table border=\"1\" class=\"dataframe\">\n",
              "  <thead>\n",
              "    <tr>\n",
              "      <th></th>\n",
              "      <th colspan=\"8\" halign=\"left\">Unnamed: 0</th>\n",
              "      <th colspan=\"8\" halign=\"left\">Rating</th>\n",
              "      <th colspan=\"8\" halign=\"left\">Founded</th>\n",
              "    </tr>\n",
              "    <tr>\n",
              "      <th></th>\n",
              "      <th>count</th>\n",
              "      <th>mean</th>\n",
              "      <th>std</th>\n",
              "      <th>min</th>\n",
              "      <th>25%</th>\n",
              "      <th>50%</th>\n",
              "      <th>75%</th>\n",
              "      <th>max</th>\n",
              "      <th>count</th>\n",
              "      <th>mean</th>\n",
              "      <th>std</th>\n",
              "      <th>min</th>\n",
              "      <th>25%</th>\n",
              "      <th>50%</th>\n",
              "      <th>75%</th>\n",
              "      <th>max</th>\n",
              "      <th>count</th>\n",
              "      <th>mean</th>\n",
              "      <th>std</th>\n",
              "      <th>min</th>\n",
              "      <th>25%</th>\n",
              "      <th>50%</th>\n",
              "      <th>75%</th>\n",
              "      <th>max</th>\n",
              "    </tr>\n",
              "    <tr>\n",
              "      <th>Salary Estimate</th>\n",
              "      <th></th>\n",
              "      <th></th>\n",
              "      <th></th>\n",
              "      <th></th>\n",
              "      <th></th>\n",
              "      <th></th>\n",
              "      <th></th>\n",
              "      <th></th>\n",
              "      <th></th>\n",
              "      <th></th>\n",
              "      <th></th>\n",
              "      <th></th>\n",
              "      <th></th>\n",
              "      <th></th>\n",
              "      <th></th>\n",
              "      <th></th>\n",
              "      <th></th>\n",
              "      <th></th>\n",
              "      <th></th>\n",
              "      <th></th>\n",
              "      <th></th>\n",
              "      <th></th>\n",
              "      <th></th>\n",
              "      <th></th>\n",
              "    </tr>\n",
              "  </thead>\n",
              "  <tbody>\n",
              "    <tr>\n",
              "      <th>$110K-$19</th>\n",
              "      <td>29.0</td>\n",
              "      <td>1482.0</td>\n",
              "      <td>8.514693</td>\n",
              "      <td>1468.0</td>\n",
              "      <td>1475.00</td>\n",
              "      <td>1482.0</td>\n",
              "      <td>1489.00</td>\n",
              "      <td>1496.0</td>\n",
              "      <td>29.0</td>\n",
              "      <td>3.541379</td>\n",
              "      <td>1.329210</td>\n",
              "      <td>-1.0</td>\n",
              "      <td>3.5</td>\n",
              "      <td>3.90</td>\n",
              "      <td>4.000</td>\n",
              "      <td>5.0</td>\n",
              "      <td>29.0</td>\n",
              "      <td>1447.793103</td>\n",
              "      <td>910.125791</td>\n",
              "      <td>-1.0</td>\n",
              "      <td>-1.0</td>\n",
              "      <td>1997.0</td>\n",
              "      <td>2003.0</td>\n",
              "      <td>2016.0</td>\n",
              "    </tr>\n",
              "    <tr>\n",
              "      <th>$113K-$13</th>\n",
              "      <td>29.0</td>\n",
              "      <td>701.0</td>\n",
              "      <td>8.514693</td>\n",
              "      <td>687.0</td>\n",
              "      <td>694.00</td>\n",
              "      <td>701.0</td>\n",
              "      <td>708.00</td>\n",
              "      <td>715.0</td>\n",
              "      <td>29.0</td>\n",
              "      <td>2.982759</td>\n",
              "      <td>1.750320</td>\n",
              "      <td>-1.0</td>\n",
              "      <td>2.9</td>\n",
              "      <td>3.30</td>\n",
              "      <td>3.900</td>\n",
              "      <td>5.0</td>\n",
              "      <td>29.0</td>\n",
              "      <td>1289.137931</td>\n",
              "      <td>953.120391</td>\n",
              "      <td>-1.0</td>\n",
              "      <td>-1.0</td>\n",
              "      <td>1939.0</td>\n",
              "      <td>1980.0</td>\n",
              "      <td>2016.0</td>\n",
              "    </tr>\n",
              "    <tr>\n",
              "      <th>$24K-$48K</th>\n",
              "      <td>29.0</td>\n",
              "      <td>1327.0</td>\n",
              "      <td>8.514693</td>\n",
              "      <td>1313.0</td>\n",
              "      <td>1320.00</td>\n",
              "      <td>1327.0</td>\n",
              "      <td>1334.00</td>\n",
              "      <td>1341.0</td>\n",
              "      <td>29.0</td>\n",
              "      <td>3.589655</td>\n",
              "      <td>1.067154</td>\n",
              "      <td>-1.0</td>\n",
              "      <td>3.3</td>\n",
              "      <td>3.70</td>\n",
              "      <td>4.100</td>\n",
              "      <td>5.0</td>\n",
              "      <td>29.0</td>\n",
              "      <td>1557.586207</td>\n",
              "      <td>811.225022</td>\n",
              "      <td>-1.0</td>\n",
              "      <td>1869.0</td>\n",
              "      <td>1970.0</td>\n",
              "      <td>1995.0</td>\n",
              "      <td>2015.0</td>\n",
              "    </tr>\n",
              "    <tr>\n",
              "      <th>$26K-$47K</th>\n",
              "      <td>29.0</td>\n",
              "      <td>435.0</td>\n",
              "      <td>8.514693</td>\n",
              "      <td>421.0</td>\n",
              "      <td>428.00</td>\n",
              "      <td>435.0</td>\n",
              "      <td>442.00</td>\n",
              "      <td>449.0</td>\n",
              "      <td>29.0</td>\n",
              "      <td>3.075862</td>\n",
              "      <td>1.783587</td>\n",
              "      <td>-1.0</td>\n",
              "      <td>2.9</td>\n",
              "      <td>3.60</td>\n",
              "      <td>4.100</td>\n",
              "      <td>5.0</td>\n",
              "      <td>29.0</td>\n",
              "      <td>1092.517241</td>\n",
              "      <td>1003.804179</td>\n",
              "      <td>-1.0</td>\n",
              "      <td>-1.0</td>\n",
              "      <td>1869.0</td>\n",
              "      <td>2000.0</td>\n",
              "      <td>2018.0</td>\n",
              "    </tr>\n",
              "    <tr>\n",
              "      <th>$27K-$52K</th>\n",
              "      <td>30.0</td>\n",
              "      <td>297.5</td>\n",
              "      <td>8.803408</td>\n",
              "      <td>283.0</td>\n",
              "      <td>290.25</td>\n",
              "      <td>297.5</td>\n",
              "      <td>304.75</td>\n",
              "      <td>312.0</td>\n",
              "      <td>30.0</td>\n",
              "      <td>3.060000</td>\n",
              "      <td>1.677354</td>\n",
              "      <td>-1.0</td>\n",
              "      <td>3.2</td>\n",
              "      <td>3.55</td>\n",
              "      <td>3.975</td>\n",
              "      <td>4.8</td>\n",
              "      <td>30.0</td>\n",
              "      <td>1632.866667</td>\n",
              "      <td>745.872955</td>\n",
              "      <td>-1.0</td>\n",
              "      <td>1823.0</td>\n",
              "      <td>1984.5</td>\n",
              "      <td>1998.0</td>\n",
              "      <td>2011.0</td>\n",
              "    </tr>\n",
              "  </tbody>\n",
              "</table>\n",
              "</div>"
            ],
            "text/plain": [
              "                Unnamed: 0                    ... Founded                \n",
              "                     count    mean       std  ...     50%     75%     max\n",
              "Salary Estimate                               ...                        \n",
              "$110K-$19             29.0  1482.0  8.514693  ...  1997.0  2003.0  2016.0\n",
              "$113K-$13             29.0   701.0  8.514693  ...  1939.0  1980.0  2016.0\n",
              "$24K-$48K             29.0  1327.0  8.514693  ...  1970.0  1995.0  2015.0\n",
              "$26K-$47K             29.0   435.0  8.514693  ...  1869.0  2000.0  2018.0\n",
              "$27K-$52K             30.0   297.5  8.803408  ...  1984.5  1998.0  2011.0\n",
              "\n",
              "[5 rows x 24 columns]"
            ]
          },
          "metadata": {
            "tags": []
          },
          "execution_count": 66
        }
      ]
    },
    {
      "cell_type": "code",
      "metadata": {
        "colab": {
          "base_uri": "https://localhost:8080/"
        },
        "id": "vafu8-C9g9Tx",
        "outputId": "f4fd8301-d2d6-4666-e63d-b17077acfedf"
      },
      "source": [
        "# Groupby by Headquartes\r\n",
        "cities = dataframe.groupby(\"Headquarters\")\r\n",
        "\r\n",
        "# Summary statistic of all countries\r\n",
        "cities.describe().head()\r\n",
        "\r\n",
        "dataframe.Headquarters.describe()"
      ],
      "execution_count": null,
      "outputs": [
        {
          "output_type": "execute_result",
          "data": {
            "text/plain": [
              "count             2253\n",
              "unique             483\n",
              "top       New York, NY\n",
              "freq               206\n",
              "Name: Headquarters, dtype: object"
            ]
          },
          "metadata": {
            "tags": []
          },
          "execution_count": 67
        }
      ]
    },
    {
      "cell_type": "code",
      "metadata": {
        "colab": {
          "base_uri": "https://localhost:8080/",
          "height": 390
        },
        "id": "CCsH0739Qn4e",
        "outputId": "8a36a189-063a-4d8e-bf05-7269b46c5021"
      },
      "source": [
        "#This selects the top 5 highest average points among all 44 countries:\r\n",
        "salary.mean().sort_values(by=\"Rating\",ascending=False).head(10)"
      ],
      "execution_count": null,
      "outputs": [
        {
          "output_type": "execute_result",
          "data": {
            "text/html": [
              "<div>\n",
              "<style scoped>\n",
              "    .dataframe tbody tr th:only-of-type {\n",
              "        vertical-align: middle;\n",
              "    }\n",
              "\n",
              "    .dataframe tbody tr th {\n",
              "        vertical-align: top;\n",
              "    }\n",
              "\n",
              "    .dataframe thead th {\n",
              "        text-align: right;\n",
              "    }\n",
              "</style>\n",
              "<table border=\"1\" class=\"dataframe\">\n",
              "  <thead>\n",
              "    <tr style=\"text-align: right;\">\n",
              "      <th></th>\n",
              "      <th>Unnamed: 0</th>\n",
              "      <th>Rating</th>\n",
              "      <th>Founded</th>\n",
              "    </tr>\n",
              "    <tr>\n",
              "      <th>Salary Estimate</th>\n",
              "      <th></th>\n",
              "      <th></th>\n",
              "      <th></th>\n",
              "    </tr>\n",
              "  </thead>\n",
              "  <tbody>\n",
              "    <tr>\n",
              "      <th>$32K-$56K</th>\n",
              "      <td>2151.500000</td>\n",
              "      <td>4.800000</td>\n",
              "      <td>1952.250000</td>\n",
              "    </tr>\n",
              "    <tr>\n",
              "      <th>-1</th>\n",
              "      <td>2149.000000</td>\n",
              "      <td>4.400000</td>\n",
              "      <td>2001.000000</td>\n",
              "    </tr>\n",
              "    <tr>\n",
              "      <th>$30K-$54K</th>\n",
              "      <td>508.500000</td>\n",
              "      <td>4.250000</td>\n",
              "      <td>1981.125000</td>\n",
              "    </tr>\n",
              "    <tr>\n",
              "      <th>$57K-$70K</th>\n",
              "      <td>1758.500000</td>\n",
              "      <td>4.150000</td>\n",
              "      <td>999.000000</td>\n",
              "    </tr>\n",
              "    <tr>\n",
              "      <th>$57K-$104</th>\n",
              "      <td>1901.000000</td>\n",
              "      <td>3.966667</td>\n",
              "      <td>1851.851852</td>\n",
              "    </tr>\n",
              "    <tr>\n",
              "      <th>$57K-$67K</th>\n",
              "      <td>2169.500000</td>\n",
              "      <td>3.957692</td>\n",
              "      <td>1838.923077</td>\n",
              "    </tr>\n",
              "    <tr>\n",
              "      <th>$93K-$159</th>\n",
              "      <td>1955.000000</td>\n",
              "      <td>3.892000</td>\n",
              "      <td>1758.160000</td>\n",
              "    </tr>\n",
              "    <tr>\n",
              "      <th>$89K-$151</th>\n",
              "      <td>1510.500000</td>\n",
              "      <td>3.750000</td>\n",
              "      <td>1568.035714</td>\n",
              "    </tr>\n",
              "    <tr>\n",
              "      <th>$48K-$88K</th>\n",
              "      <td>1442.000000</td>\n",
              "      <td>3.707407</td>\n",
              "      <td>1169.629630</td>\n",
              "    </tr>\n",
              "    <tr>\n",
              "      <th>$34K-$61K</th>\n",
              "      <td>1945.785714</td>\n",
              "      <td>3.667857</td>\n",
              "      <td>1561.964286</td>\n",
              "    </tr>\n",
              "  </tbody>\n",
              "</table>\n",
              "</div>"
            ],
            "text/plain": [
              "                  Unnamed: 0    Rating      Founded\n",
              "Salary Estimate                                    \n",
              "$32K-$56K        2151.500000  4.800000  1952.250000\n",
              "-1               2149.000000  4.400000  2001.000000\n",
              "$30K-$54K         508.500000  4.250000  1981.125000\n",
              "$57K-$70K        1758.500000  4.150000   999.000000\n",
              "$57K-$104        1901.000000  3.966667  1851.851852\n",
              "$57K-$67K        2169.500000  3.957692  1838.923077\n",
              "$93K-$159        1955.000000  3.892000  1758.160000\n",
              "$89K-$151        1510.500000  3.750000  1568.035714\n",
              "$48K-$88K        1442.000000  3.707407  1169.629630\n",
              "$34K-$61K        1945.785714  3.667857  1561.964286"
            ]
          },
          "metadata": {
            "tags": []
          },
          "execution_count": 74
        }
      ]
    },
    {
      "cell_type": "code",
      "metadata": {
        "colab": {
          "base_uri": "https://localhost:8080/",
          "height": 644
        },
        "id": "HyC-duJGXZYL",
        "outputId": "d2e2dab6-0b73-4438-f143-efaea85195a6"
      },
      "source": [
        "plt.figure(figsize=(15,10))\r\n",
        "salary.size().sort_values(ascending=False).plot.bar()\r\n",
        "plt.xticks(rotation=50)\r\n",
        "plt.xlabel(\"Salary\")\r\n",
        "plt.ylabel(\"Job Title\")\r\n",
        "plt.show()"
      ],
      "execution_count": null,
      "outputs": [
        {
          "output_type": "display_data",
          "data": {
            "image/png": "[encoded data removed]",
            "text/plain": [
              "<Figure size 1080x720 with 1 Axes>"
            ]
          },
          "metadata": {
            "tags": [],
            "needs_background": "light"
          }
        }
      ]
    },
    {
      "cell_type": "code",
      "metadata": {
        "id": "OYvUv0unZU-v"
      },
      "source": [
        "'''Usando o groupby com a função agg\r\n",
        "dataframe.groupby('canal_venda').agg({'site':'unique',\r\n",
        "'acessos':'sum'})"
      ],
      "execution_count": null,
      "outputs": []
    },
    {
      "cell_type": "code",
      "metadata": {
        "colab": {
          "base_uri": "https://localhost:8080/",
          "height": 198
        },
        "id": "4oFe84DjbC4i",
        "outputId": "3e9e1788-d32e-49a4-c7a1-370f871094bc"
      },
      "source": [
        "# Start with one review:\r\n",
        "text = job_description[1000]\r\n",
        "\r\n",
        "# Create and generate a word cloud image:\r\n",
        "wordcloud = WordCloud().generate(text)\r\n",
        "\r\n",
        "# Display the generated image:\r\n",
        "plt.imshow(wordcloud, interpolation='bilinear')\r\n",
        "plt.axis(\"off\")\r\n",
        "for text in texts:\r\n",
        "  plt.show()"
      ],
      "execution_count": null,
      "outputs": [
        {
          "output_type": "display_data",
          "data": {
            "image/png": "[encoded data removed]",
            "text/plain": [
              "<Figure size 432x288 with 1 Axes>"
            ]
          },
          "metadata": {
            "tags": [],
            "needs_background": "light"
          }
        }
      ]
    },
    {
      "cell_type": "code",
      "metadata": {
        "id": "6ejHFhI1EYlr"
      },
      "source": [
        ""
      ],
      "execution_count": null,
      "outputs": []
    },
    {
      "cell_type": "markdown",
      "metadata": {
        "id": "_25tPOuxYOJp"
      },
      "source": [
        "You can plot the number of wines by country using the plot method of Pandas DataFrame and Matplotlib. If you are not familiar with Matplotlib, I suggest taking a quick look at this tutorial.\r\n",
        "\r\n",
        "plt.figure(figsize=(15,10))\r\n",
        "country.size().sort_values(ascending=False).plot.bar()\r\n",
        "plt.xticks(rotation=50)\r\n",
        "plt.xlabel(\"Country of Origin\")\r\n",
        "plt.ylabel(\"Number of Wines\")\r\n",
        "plt.show()"
      ]
    },
    {
      "cell_type": "code",
      "metadata": {
        "colab": {
          "base_uri": "https://localhost:8080/",
          "height": 562
        },
        "id": "cfwhISWw3LGK",
        "outputId": "8629525e-002f-43b0-d99a-9bf3d704014e"
      },
      "source": [
        "# Filtered the data so it only contains the survey result from the top 30 country based on the total respondents\r\n",
        "top_30_country = list(dataframe['Headquarters'].value_counts().head(30).index)\r\n",
        "filtered_developer_data = dataframe[dataframe['Headquarters'].isin(top_30_country)]\r\n",
        "\r\n",
        "# Aggregate the data so we can visualize it later\r\n",
        "aggregated_data = filtered_developer_data.groupby(['Headquarters','Company Name'], as_index=False)\r\n",
        "\r\n",
        "# Add column percentage\r\n",
        "total_respondents_per_country = filtered_developer_data['Country'].value_counts()\r\n",
        "\r\n",
        "\r\n",
        "\r\n"
      ],
      "execution_count": null,
      "outputs": [
        {
          "output_type": "error",
          "ename": "KeyError",
          "evalue": "ignored",
          "traceback": [
            "\u001b[0;31m---------------------------------------------------------------------------\u001b[0m",
            "\u001b[0;31mKeyError\u001b[0m                                  Traceback (most recent call last)",
            "\u001b[0;32m/usr/local/lib/python3.6/dist-packages/pandas/core/indexes/base.py\u001b[0m in \u001b[0;36mget_loc\u001b[0;34m(self, key, method, tolerance)\u001b[0m\n\u001b[1;32m   2897\u001b[0m             \u001b[0;32mtry\u001b[0m\u001b[0;34m:\u001b[0m\u001b[0;34m\u001b[0m\u001b[0;34m\u001b[0m\u001b[0m\n\u001b[0;32m-> 2898\u001b[0;31m                 \u001b[0;32mreturn\u001b[0m \u001b[0mself\u001b[0m\u001b[0;34m.\u001b[0m\u001b[0m_engine\u001b[0m\u001b[0;34m.\u001b[0m\u001b[0mget_loc\u001b[0m\u001b[0;34m(\u001b[0m\u001b[0mcasted_key\u001b[0m\u001b[0;34m)\u001b[0m\u001b[0;34m\u001b[0m\u001b[0;34m\u001b[0m\u001b[0m\n\u001b[0m\u001b[1;32m   2899\u001b[0m             \u001b[0;32mexcept\u001b[0m \u001b[0mKeyError\u001b[0m \u001b[0;32mas\u001b[0m \u001b[0merr\u001b[0m\u001b[0;34m:\u001b[0m\u001b[0;34m\u001b[0m\u001b[0;34m\u001b[0m\u001b[0m\n",
            "\u001b[0;32mpandas/_libs/index.pyx\u001b[0m in \u001b[0;36mpandas._libs.index.IndexEngine.get_loc\u001b[0;34m()\u001b[0m\n",
            "\u001b[0;32mpandas/_libs/index.pyx\u001b[0m in \u001b[0;36mpandas._libs.index.IndexEngine.get_loc\u001b[0;34m()\u001b[0m\n",
            "\u001b[0;32mpandas/_libs/hashtable_class_helper.pxi\u001b[0m in \u001b[0;36mpandas._libs.hashtable.PyObjectHashTable.get_item\u001b[0;34m()\u001b[0m\n",
            "\u001b[0;32mpandas/_libs/hashtable_class_helper.pxi\u001b[0m in \u001b[0;36mpandas._libs.hashtable.PyObjectHashTable.get_item\u001b[0;34m()\u001b[0m\n",
            "\u001b[0;31mKeyError\u001b[0m: 'Country'",
            "\nThe above exception was the direct cause of the following exception:\n",
            "\u001b[0;31mKeyError\u001b[0m                                  Traceback (most recent call last)",
            "\u001b[0;32m<ipython-input-76-0290ca73071a>\u001b[0m in \u001b[0;36m<module>\u001b[0;34m()\u001b[0m\n\u001b[1;32m      7\u001b[0m \u001b[0;34m\u001b[0m\u001b[0m\n\u001b[1;32m      8\u001b[0m \u001b[0;31m# Add column percentage\u001b[0m\u001b[0;34m\u001b[0m\u001b[0;34m\u001b[0m\u001b[0;34m\u001b[0m\u001b[0m\n\u001b[0;32m----> 9\u001b[0;31m \u001b[0mtotal_respondents_per_country\u001b[0m \u001b[0;34m=\u001b[0m \u001b[0mfiltered_developer_data\u001b[0m\u001b[0;34m[\u001b[0m\u001b[0;34m'Country'\u001b[0m\u001b[0;34m]\u001b[0m\u001b[0;34m.\u001b[0m\u001b[0mvalue_counts\u001b[0m\u001b[0;34m(\u001b[0m\u001b[0;34m)\u001b[0m\u001b[0;34m\u001b[0m\u001b[0;34m\u001b[0m\u001b[0m\n\u001b[0m\u001b[1;32m     10\u001b[0m \u001b[0;34m\u001b[0m\u001b[0m\n\u001b[1;32m     11\u001b[0m \u001b[0;34m\u001b[0m\u001b[0m\n",
            "\u001b[0;32m/usr/local/lib/python3.6/dist-packages/pandas/core/frame.py\u001b[0m in \u001b[0;36m__getitem__\u001b[0;34m(self, key)\u001b[0m\n\u001b[1;32m   2904\u001b[0m             \u001b[0;32mif\u001b[0m \u001b[0mself\u001b[0m\u001b[0;34m.\u001b[0m\u001b[0mcolumns\u001b[0m\u001b[0;34m.\u001b[0m\u001b[0mnlevels\u001b[0m \u001b[0;34m>\u001b[0m \u001b[0;36m1\u001b[0m\u001b[0;34m:\u001b[0m\u001b[0;34m\u001b[0m\u001b[0;34m\u001b[0m\u001b[0m\n\u001b[1;32m   2905\u001b[0m                 \u001b[0;32mreturn\u001b[0m \u001b[0mself\u001b[0m\u001b[0;34m.\u001b[0m\u001b[0m_getitem_multilevel\u001b[0m\u001b[0;34m(\u001b[0m\u001b[0mkey\u001b[0m\u001b[0;34m)\u001b[0m\u001b[0;34m\u001b[0m\u001b[0;34m\u001b[0m\u001b[0m\n\u001b[0;32m-> 2906\u001b[0;31m             \u001b[0mindexer\u001b[0m \u001b[0;34m=\u001b[0m \u001b[0mself\u001b[0m\u001b[0;34m.\u001b[0m\u001b[0mcolumns\u001b[0m\u001b[0;34m.\u001b[0m\u001b[0mget_loc\u001b[0m\u001b[0;34m(\u001b[0m\u001b[0mkey\u001b[0m\u001b[0;34m)\u001b[0m\u001b[0;34m\u001b[0m\u001b[0;34m\u001b[0m\u001b[0m\n\u001b[0m\u001b[1;32m   2907\u001b[0m             \u001b[0;32mif\u001b[0m \u001b[0mis_integer\u001b[0m\u001b[0;34m(\u001b[0m\u001b[0mindexer\u001b[0m\u001b[0;34m)\u001b[0m\u001b[0;34m:\u001b[0m\u001b[0;34m\u001b[0m\u001b[0;34m\u001b[0m\u001b[0m\n\u001b[1;32m   2908\u001b[0m                 \u001b[0mindexer\u001b[0m \u001b[0;34m=\u001b[0m \u001b[0;34m[\u001b[0m\u001b[0mindexer\u001b[0m\u001b[0;34m]\u001b[0m\u001b[0;34m\u001b[0m\u001b[0;34m\u001b[0m\u001b[0m\n",
            "\u001b[0;32m/usr/local/lib/python3.6/dist-packages/pandas/core/indexes/base.py\u001b[0m in \u001b[0;36mget_loc\u001b[0;34m(self, key, method, tolerance)\u001b[0m\n\u001b[1;32m   2898\u001b[0m                 \u001b[0;32mreturn\u001b[0m \u001b[0mself\u001b[0m\u001b[0;34m.\u001b[0m\u001b[0m_engine\u001b[0m\u001b[0;34m.\u001b[0m\u001b[0mget_loc\u001b[0m\u001b[0;34m(\u001b[0m\u001b[0mcasted_key\u001b[0m\u001b[0;34m)\u001b[0m\u001b[0;34m\u001b[0m\u001b[0;34m\u001b[0m\u001b[0m\n\u001b[1;32m   2899\u001b[0m             \u001b[0;32mexcept\u001b[0m \u001b[0mKeyError\u001b[0m \u001b[0;32mas\u001b[0m \u001b[0merr\u001b[0m\u001b[0;34m:\u001b[0m\u001b[0;34m\u001b[0m\u001b[0;34m\u001b[0m\u001b[0m\n\u001b[0;32m-> 2900\u001b[0;31m                 \u001b[0;32mraise\u001b[0m \u001b[0mKeyError\u001b[0m\u001b[0;34m(\u001b[0m\u001b[0mkey\u001b[0m\u001b[0;34m)\u001b[0m \u001b[0;32mfrom\u001b[0m \u001b[0merr\u001b[0m\u001b[0;34m\u001b[0m\u001b[0;34m\u001b[0m\u001b[0m\n\u001b[0m\u001b[1;32m   2901\u001b[0m \u001b[0;34m\u001b[0m\u001b[0m\n\u001b[1;32m   2902\u001b[0m         \u001b[0;32mif\u001b[0m \u001b[0mtolerance\u001b[0m \u001b[0;32mis\u001b[0m \u001b[0;32mnot\u001b[0m \u001b[0;32mNone\u001b[0m\u001b[0;34m:\u001b[0m\u001b[0;34m\u001b[0m\u001b[0;34m\u001b[0m\u001b[0m\n",
            "\u001b[0;31mKeyError\u001b[0m: 'Country'"
          ]
        }
      ]
    },
    {
      "cell_type": "code",
      "metadata": {
        "colab": {
          "base_uri": "https://localhost:8080/"
        },
        "id": "e9vYxfOt4yCK",
        "outputId": "96a3c0dc-9469-475c-96e5-f3f0c4fac416"
      },
      "source": [
        "\r\n",
        "type_industry = dataframe['Sector'].value_counts()\r\n",
        "top_10_industry=dataframe['Sector'].value_counts().head(10)\r\n",
        "top_10_industry\r\n",
        "\r\n"
      ],
      "execution_count": 49,
      "outputs": [
        {
          "output_type": "execute_result",
          "data": {
            "text/plain": [
              "Information Technology       1124\n",
              "Business Services             679\n",
              "-1                            546\n",
              "Biotech & Pharmaceuticals     293\n",
              "Finance                       270\n",
              "Health Care                   197\n",
              "Insurance                     109\n",
              "Education                     101\n",
              "Manufacturing                  87\n",
              "Government                     82\n",
              "Name: Sector, dtype: int64"
            ]
          },
          "metadata": {
            "tags": []
          },
          "execution_count": 49
        }
      ]
    }
  ]
}